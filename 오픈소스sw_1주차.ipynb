{
  "nbformat": 4,
  "nbformat_minor": 0,
  "metadata": {
    "colab": {
      "provenance": []
    },
    "kernelspec": {
      "name": "python3",
      "display_name": "Python 3"
    },
    "language_info": {
      "name": "python"
    }
  },
  "cells": [
    {
      "cell_type": "code",
      "execution_count": 4,
      "metadata": {
        "colab": {
          "base_uri": "https://localhost:8080/"
        },
        "id": "oJyznvil9nmQ",
        "outputId": "d9886904-7b35-4e24-fbba-b7edb284c4bf"
      },
      "outputs": [
        {
          "output_type": "stream",
          "name": "stdout",
          "text": [
            "Value for 3\n",
            "Value for 3\n"
          ]
        }
      ],
      "source": [
        "class MyCollection:\n",
        "  def __getitem__(self,key):\n",
        "    return f\"Value for {key}\"\n",
        "\n",
        "collection = MyCollection()\n",
        "print(collection.__getitem__(3))\n",
        "print(collection[3])"
      ]
    },
    {
      "cell_type": "code",
      "source": [
        "\n",
        "import collections\n",
        "\n",
        "Card = collections.namedtuple('Card', ['rank', 'suit'])\n",
        "# 튜플객체명 = collections.namedtuple('객체이름',['특성들'])\n",
        "\n",
        "class FrenchDeck:\n",
        "  ranks = [str(n) for n in range (2,11)] + list('JQKA') # 2~10, J, Q, K, A\n",
        "  suits = 'spades diamonds clubs hearts'.split()\n",
        "\n",
        "  def __init__(self):\n",
        "    self._cards = [Card(rank, suit) for suit in self.suits\n",
        "                   for rank in self.ranks]\n",
        "  def __len__(self):\n",
        "    return len(self._cards)\n",
        "\n",
        "  def __getitem__(self, position):\n",
        "    return self._cards [position]\n",
        "\n",
        "\n",
        "beer_card = Card('7','diamonds')\n",
        "beer_card\n",
        "\n"
      ],
      "metadata": {
        "colab": {
          "base_uri": "https://localhost:8080/"
        },
        "id": "k1D0nioL-L44",
        "outputId": "b748203b-690d-4de9-d9bf-ebbc3c351688"
      },
      "execution_count": 5,
      "outputs": [
        {
          "output_type": "execute_result",
          "data": {
            "text/plain": [
              "Card(rank='7', suit='diamonds')"
            ]
          },
          "metadata": {},
          "execution_count": 5
        }
      ]
    },
    {
      "cell_type": "code",
      "source": [
        "\n",
        "import collections\n",
        "\n",
        "Card = collections.namedtuple('Card', ['rank', 'suit'])\n",
        "# 튜플객체명 = collections.namedtuple('객체이름',['특성들'])\n",
        "\n",
        "class FrenchDeck:\n",
        "  ranks = [str(n) for n in range (2,11)] + list('JQKA') # 2~10, J, Q, K, A\n",
        "  suits = 'spades diamonds clubs hearts'.split()\n",
        "\n",
        "  def __init__(self):\n",
        "    self._cards = [Card(rank, suit) for suit in self.suits\n",
        "                   for rank in self.ranks]\n",
        "  def __len__(self):\n",
        "    return len(self._cards)\n",
        "\n",
        "  def __getitem__(self, position):\n",
        "    return self._cards [position]\n",
        "\n",
        "deck = FrenchDeck()\n",
        "print(f\"Ranks: {deck.ranks}\")\n",
        "print(f\"len: {len(deck)}\")"
      ],
      "metadata": {
        "colab": {
          "base_uri": "https://localhost:8080/"
        },
        "id": "uCJSoz4W_2_q",
        "outputId": "29fc7d94-2390-4d98-cb54-a78f94c46ad2"
      },
      "execution_count": 6,
      "outputs": [
        {
          "output_type": "stream",
          "name": "stdout",
          "text": [
            "Ranks: ['2', '3', '4', '5', '6', '7', '8', '9', '10', 'J', 'Q', 'K', 'A']\n",
            "len: 52\n"
          ]
        }
      ]
    },
    {
      "cell_type": "code",
      "source": [
        "import collections\n",
        "\n",
        "Card = collections.namedtuple('Card', ['rank', 'suit'])\n",
        "# 튜플객체명 = collections.namedtuple('객체이름',['특성들'])\n",
        "\n",
        "class FrenchDeck:\n",
        "  ranks = [str(n) for n in range (2,11)] + list('JQKA') # 2~10, J, Q, K, A\n",
        "  suits = 'spades diamonds clubs hearts'.split()\n",
        "\n",
        "  def __init__(self):\n",
        "    self._cards = [Card(rank, suit) for suit in self.suits\n",
        "                   for rank in self.ranks]\n",
        "  def __len__(self):\n",
        "    return len(self._cards)\n",
        "\n",
        "  def __getitem__(self, position):\n",
        "    return self._cards [position]\n",
        "\n",
        "deck = FrenchDeck()\n",
        "\n",
        "print(deck[0])\n",
        "print(deck[-1])"
      ],
      "metadata": {
        "colab": {
          "base_uri": "https://localhost:8080/"
        },
        "id": "bFbWdWrWAQbT",
        "outputId": "cb1eb25b-60ea-4ec2-e4cd-fe58cf3592c7"
      },
      "execution_count": 13,
      "outputs": [
        {
          "output_type": "stream",
          "name": "stdout",
          "text": [
            "Card(rank='2', suit='spades')\n",
            "Card(rank='A', suit='hearts')\n"
          ]
        }
      ]
    },
    {
      "cell_type": "code",
      "source": [
        "import collections\n",
        "\n",
        "Card = collections.namedtuple('Card', ['rank', 'suit'])\n",
        "# 튜플객체명 = collections.namedtuple('객체이름',['특성들'])\n",
        "\n",
        "class FrenchDeck:\n",
        "  ranks = [str(n) for n in range (2,11)] + list('JQKA') # 2~10, J, Q, K, A\n",
        "  suits = 'spades diamonds clubs hearts'.split()\n",
        "\n",
        "  def __init__(self):\n",
        "    self._cards = [Card(rank, suit) for suit in self.suits\n",
        "                   for rank in self.ranks]\n",
        "  def __len__(self):\n",
        "    return len(self._cards)\n",
        "\n",
        "  def __getitem__(self, position):\n",
        "    return self._cards [position]\n",
        "\n",
        "from random import choice\n",
        "print(choice(deck))\n",
        "print(choice(deck))\n",
        "print(choice(deck))"
      ],
      "metadata": {
        "colab": {
          "base_uri": "https://localhost:8080/"
        },
        "id": "a_zjHCB7BFPC",
        "outputId": "329d6973-e8b2-4eea-d21b-3fbd80ebba83"
      },
      "execution_count": 15,
      "outputs": [
        {
          "output_type": "stream",
          "name": "stdout",
          "text": [
            "Card(rank='8', suit='clubs')\n",
            "Card(rank='6', suit='clubs')\n",
            "Card(rank='K', suit='spades')\n"
          ]
        },
        {
          "output_type": "execute_result",
          "data": {
            "text/plain": [
              "[Card(rank='A', suit='spades'),\n",
              " Card(rank='A', suit='diamonds'),\n",
              " Card(rank='A', suit='clubs'),\n",
              " Card(rank='A', suit='hearts')]"
            ]
          },
          "metadata": {},
          "execution_count": 15
        }
      ]
    },
    {
      "cell_type": "code",
      "source": [
        "import collections\n",
        "\n",
        "Card = collections.namedtuple('Card', ['rank', 'suit'])\n",
        "# 튜플객체명 = collections.namedtuple('객체이름',['특성들'])\n",
        "\n",
        "class FrenchDeck:\n",
        "  ranks = [str(n) for n in range (2,11)] + list('JQKA') # 2~10, J, Q, K, A\n",
        "  suits = 'spades diamonds clubs hearts'.split()\n",
        "\n",
        "  def __init__(self):\n",
        "    self._cards = [Card(rank, suit) for suit in self.suits\n",
        "                   for rank in self.ranks]\n",
        "  def __len__(self):\n",
        "    return len(self._cards)\n",
        "\n",
        "  def __getitem__(self, position):\n",
        "    return self._cards [position]\n",
        "\n",
        "deck[:3]\n",
        "deck[12::13]"
      ],
      "metadata": {
        "colab": {
          "base_uri": "https://localhost:8080/"
        },
        "id": "47bQqekIBTca",
        "outputId": "18b13c3b-f129-40cb-df92-905750bcc627"
      },
      "execution_count": 16,
      "outputs": [
        {
          "output_type": "execute_result",
          "data": {
            "text/plain": [
              "[Card(rank='A', suit='spades'),\n",
              " Card(rank='A', suit='diamonds'),\n",
              " Card(rank='A', suit='clubs'),\n",
              " Card(rank='A', suit='hearts')]"
            ]
          },
          "metadata": {},
          "execution_count": 16
        }
      ]
    },
    {
      "cell_type": "code",
      "source": [
        "import collections\n",
        "\n",
        "Card = collections.namedtuple('Card', ['rank', 'suit'])\n",
        "# 튜플객체명 = collections.namedtuple('객체이름',['특성들'])\n",
        "\n",
        "class FrenchDeck:\n",
        "  ranks = [str(n) for n in range (2,11)] + list('JQKA') # 2~10, J, Q, K, A\n",
        "  suits = 'spades diamonds clubs hearts'.split()\n",
        "\n",
        "  def __init__(self):\n",
        "    self._cards = [Card(rank, suit) for suit in self.suits\n",
        "                   for rank in self.ranks]\n",
        "  def __len__(self):\n",
        "    return len(self._cards)\n",
        "\n",
        "  def __getitem__(self, position):\n",
        "    return self._cards [position]\n",
        "\n",
        "for card in deck:\n",
        "  print(card)"
      ],
      "metadata": {
        "colab": {
          "base_uri": "https://localhost:8080/"
        },
        "id": "a8cpYuquBZqb",
        "outputId": "683db250-56c9-43a5-f052-86ca81381ef7"
      },
      "execution_count": 17,
      "outputs": [
        {
          "output_type": "stream",
          "name": "stdout",
          "text": [
            "Card(rank='2', suit='spades')\n",
            "Card(rank='3', suit='spades')\n",
            "Card(rank='4', suit='spades')\n",
            "Card(rank='5', suit='spades')\n",
            "Card(rank='6', suit='spades')\n",
            "Card(rank='7', suit='spades')\n",
            "Card(rank='8', suit='spades')\n",
            "Card(rank='9', suit='spades')\n",
            "Card(rank='10', suit='spades')\n",
            "Card(rank='J', suit='spades')\n",
            "Card(rank='Q', suit='spades')\n",
            "Card(rank='K', suit='spades')\n",
            "Card(rank='A', suit='spades')\n",
            "Card(rank='2', suit='diamonds')\n",
            "Card(rank='3', suit='diamonds')\n",
            "Card(rank='4', suit='diamonds')\n",
            "Card(rank='5', suit='diamonds')\n",
            "Card(rank='6', suit='diamonds')\n",
            "Card(rank='7', suit='diamonds')\n",
            "Card(rank='8', suit='diamonds')\n",
            "Card(rank='9', suit='diamonds')\n",
            "Card(rank='10', suit='diamonds')\n",
            "Card(rank='J', suit='diamonds')\n",
            "Card(rank='Q', suit='diamonds')\n",
            "Card(rank='K', suit='diamonds')\n",
            "Card(rank='A', suit='diamonds')\n",
            "Card(rank='2', suit='clubs')\n",
            "Card(rank='3', suit='clubs')\n",
            "Card(rank='4', suit='clubs')\n",
            "Card(rank='5', suit='clubs')\n",
            "Card(rank='6', suit='clubs')\n",
            "Card(rank='7', suit='clubs')\n",
            "Card(rank='8', suit='clubs')\n",
            "Card(rank='9', suit='clubs')\n",
            "Card(rank='10', suit='clubs')\n",
            "Card(rank='J', suit='clubs')\n",
            "Card(rank='Q', suit='clubs')\n",
            "Card(rank='K', suit='clubs')\n",
            "Card(rank='A', suit='clubs')\n",
            "Card(rank='2', suit='hearts')\n",
            "Card(rank='3', suit='hearts')\n",
            "Card(rank='4', suit='hearts')\n",
            "Card(rank='5', suit='hearts')\n",
            "Card(rank='6', suit='hearts')\n",
            "Card(rank='7', suit='hearts')\n",
            "Card(rank='8', suit='hearts')\n",
            "Card(rank='9', suit='hearts')\n",
            "Card(rank='10', suit='hearts')\n",
            "Card(rank='J', suit='hearts')\n",
            "Card(rank='Q', suit='hearts')\n",
            "Card(rank='K', suit='hearts')\n",
            "Card(rank='A', suit='hearts')\n"
          ]
        }
      ]
    },
    {
      "cell_type": "code",
      "source": [
        "import collections\n",
        "\n",
        "Card = collections.namedtuple('Card', ['rank', 'suit'])\n",
        "# 튜플객체명 = collections.namedtuple('객체이름',['특성들'])\n",
        "\n",
        "class FrenchDeck:\n",
        "  ranks = [str(n) for n in range (2,11)] + list('JQKA') # 2~10, J, Q, K, A\n",
        "  suits = 'spades diamonds clubs hearts'.split()\n",
        "\n",
        "  def __init__(self):\n",
        "    self._cards = [Card(rank, suit) for suit in self.suits\n",
        "                   for rank in self.ranks]\n",
        "  def __len__(self):\n",
        "    return len(self._cards)\n",
        "\n",
        "  def __getitem__(self, position):\n",
        "    return self._cards [position]\n",
        "\n",
        "for card in reversed(deck):\n",
        "  print(card)"
      ],
      "metadata": {
        "colab": {
          "base_uri": "https://localhost:8080/"
        },
        "id": "q-l8SvU-Bdy5",
        "outputId": "470933e5-4a89-444a-94ca-3b23e218aaba"
      },
      "execution_count": 18,
      "outputs": [
        {
          "output_type": "stream",
          "name": "stdout",
          "text": [
            "Card(rank='A', suit='hearts')\n",
            "Card(rank='K', suit='hearts')\n",
            "Card(rank='Q', suit='hearts')\n",
            "Card(rank='J', suit='hearts')\n",
            "Card(rank='10', suit='hearts')\n",
            "Card(rank='9', suit='hearts')\n",
            "Card(rank='8', suit='hearts')\n",
            "Card(rank='7', suit='hearts')\n",
            "Card(rank='6', suit='hearts')\n",
            "Card(rank='5', suit='hearts')\n",
            "Card(rank='4', suit='hearts')\n",
            "Card(rank='3', suit='hearts')\n",
            "Card(rank='2', suit='hearts')\n",
            "Card(rank='A', suit='clubs')\n",
            "Card(rank='K', suit='clubs')\n",
            "Card(rank='Q', suit='clubs')\n",
            "Card(rank='J', suit='clubs')\n",
            "Card(rank='10', suit='clubs')\n",
            "Card(rank='9', suit='clubs')\n",
            "Card(rank='8', suit='clubs')\n",
            "Card(rank='7', suit='clubs')\n",
            "Card(rank='6', suit='clubs')\n",
            "Card(rank='5', suit='clubs')\n",
            "Card(rank='4', suit='clubs')\n",
            "Card(rank='3', suit='clubs')\n",
            "Card(rank='2', suit='clubs')\n",
            "Card(rank='A', suit='diamonds')\n",
            "Card(rank='K', suit='diamonds')\n",
            "Card(rank='Q', suit='diamonds')\n",
            "Card(rank='J', suit='diamonds')\n",
            "Card(rank='10', suit='diamonds')\n",
            "Card(rank='9', suit='diamonds')\n",
            "Card(rank='8', suit='diamonds')\n",
            "Card(rank='7', suit='diamonds')\n",
            "Card(rank='6', suit='diamonds')\n",
            "Card(rank='5', suit='diamonds')\n",
            "Card(rank='4', suit='diamonds')\n",
            "Card(rank='3', suit='diamonds')\n",
            "Card(rank='2', suit='diamonds')\n",
            "Card(rank='A', suit='spades')\n",
            "Card(rank='K', suit='spades')\n",
            "Card(rank='Q', suit='spades')\n",
            "Card(rank='J', suit='spades')\n",
            "Card(rank='10', suit='spades')\n",
            "Card(rank='9', suit='spades')\n",
            "Card(rank='8', suit='spades')\n",
            "Card(rank='7', suit='spades')\n",
            "Card(rank='6', suit='spades')\n",
            "Card(rank='5', suit='spades')\n",
            "Card(rank='4', suit='spades')\n",
            "Card(rank='3', suit='spades')\n",
            "Card(rank='2', suit='spades')\n"
          ]
        }
      ]
    },
    {
      "cell_type": "code",
      "source": [
        "import collections\n",
        "\n",
        "Card = collections.namedtuple('Card', ['rank', 'suit'])\n",
        "# 튜플객체명 = collections.namedtuple('객체이름',['특성들'])\n",
        "\n",
        "class FrenchDeck:\n",
        "  ranks = [str(n) for n in range (2,11)] + list('JQKA') # 2~10, J, Q, K, A\n",
        "  suits = 'spades diamonds clubs hearts'.split()\n",
        "\n",
        "  def __init__(self):\n",
        "    self._cards = [Card(rank, suit) for suit in self.suits\n",
        "                   for rank in self.ranks]\n",
        "  def __len__(self):\n",
        "    return len(self._cards)\n",
        "\n",
        "  def __getitem__(self, position):\n",
        "    return self._cards [position]\n",
        "\n",
        "suit_values = dict(spades=3, hearts=2, diamonds=1, clubs=0)\n",
        "\n",
        "def spades_high(card):\n",
        "  rank_value = FrenchDeck.ranks.index(card.rank)\n",
        "  return rank_value * len(suit_values) + suit_values[card.suit]\n",
        "\n",
        "for card in sorted(deck, key=spades_high):\n",
        "  print('The rank of {} is {}'.format(card, spades_high(card)))"
      ],
      "metadata": {
        "colab": {
          "base_uri": "https://localhost:8080/"
        },
        "id": "9syOrM-tBhUJ",
        "outputId": "47c1d5e4-fc6f-4b62-d37a-989a97a29970"
      },
      "execution_count": 19,
      "outputs": [
        {
          "output_type": "stream",
          "name": "stdout",
          "text": [
            "The rank of Card(rank='2', suit='clubs') is 0\n",
            "The rank of Card(rank='2', suit='diamonds') is 1\n",
            "The rank of Card(rank='2', suit='hearts') is 2\n",
            "The rank of Card(rank='2', suit='spades') is 3\n",
            "The rank of Card(rank='3', suit='clubs') is 4\n",
            "The rank of Card(rank='3', suit='diamonds') is 5\n",
            "The rank of Card(rank='3', suit='hearts') is 6\n",
            "The rank of Card(rank='3', suit='spades') is 7\n",
            "The rank of Card(rank='4', suit='clubs') is 8\n",
            "The rank of Card(rank='4', suit='diamonds') is 9\n",
            "The rank of Card(rank='4', suit='hearts') is 10\n",
            "The rank of Card(rank='4', suit='spades') is 11\n",
            "The rank of Card(rank='5', suit='clubs') is 12\n",
            "The rank of Card(rank='5', suit='diamonds') is 13\n",
            "The rank of Card(rank='5', suit='hearts') is 14\n",
            "The rank of Card(rank='5', suit='spades') is 15\n",
            "The rank of Card(rank='6', suit='clubs') is 16\n",
            "The rank of Card(rank='6', suit='diamonds') is 17\n",
            "The rank of Card(rank='6', suit='hearts') is 18\n",
            "The rank of Card(rank='6', suit='spades') is 19\n",
            "The rank of Card(rank='7', suit='clubs') is 20\n",
            "The rank of Card(rank='7', suit='diamonds') is 21\n",
            "The rank of Card(rank='7', suit='hearts') is 22\n",
            "The rank of Card(rank='7', suit='spades') is 23\n",
            "The rank of Card(rank='8', suit='clubs') is 24\n",
            "The rank of Card(rank='8', suit='diamonds') is 25\n",
            "The rank of Card(rank='8', suit='hearts') is 26\n",
            "The rank of Card(rank='8', suit='spades') is 27\n",
            "The rank of Card(rank='9', suit='clubs') is 28\n",
            "The rank of Card(rank='9', suit='diamonds') is 29\n",
            "The rank of Card(rank='9', suit='hearts') is 30\n",
            "The rank of Card(rank='9', suit='spades') is 31\n",
            "The rank of Card(rank='10', suit='clubs') is 32\n",
            "The rank of Card(rank='10', suit='diamonds') is 33\n",
            "The rank of Card(rank='10', suit='hearts') is 34\n",
            "The rank of Card(rank='10', suit='spades') is 35\n",
            "The rank of Card(rank='J', suit='clubs') is 36\n",
            "The rank of Card(rank='J', suit='diamonds') is 37\n",
            "The rank of Card(rank='J', suit='hearts') is 38\n",
            "The rank of Card(rank='J', suit='spades') is 39\n",
            "The rank of Card(rank='Q', suit='clubs') is 40\n",
            "The rank of Card(rank='Q', suit='diamonds') is 41\n",
            "The rank of Card(rank='Q', suit='hearts') is 42\n",
            "The rank of Card(rank='Q', suit='spades') is 43\n",
            "The rank of Card(rank='K', suit='clubs') is 44\n",
            "The rank of Card(rank='K', suit='diamonds') is 45\n",
            "The rank of Card(rank='K', suit='hearts') is 46\n",
            "The rank of Card(rank='K', suit='spades') is 47\n",
            "The rank of Card(rank='A', suit='clubs') is 48\n",
            "The rank of Card(rank='A', suit='diamonds') is 49\n",
            "The rank of Card(rank='A', suit='hearts') is 50\n",
            "The rank of Card(rank='A', suit='spades') is 51\n"
          ]
        }
      ]
    },
    {
      "cell_type": "code",
      "source": [
        "import math\n",
        "\n",
        "class Vector:\n",
        "  def __init__(self, x=0, y=0):\n",
        "    self.x = x\n",
        "    self.y = y\n",
        "  def __repr__(self):\n",
        "    return f'Vector(%r,%r)' % (self.x, self.y)\n",
        "  def __abs__(self):\n",
        "    return math.hypot(self.x, self.y)\n",
        "  def __bool__(self):\n",
        "    return bool(abs(self))\n",
        "\n",
        "  def __add__(self, other):\n",
        "    x = self.x + other.x\n",
        "    y = self.y + other.y\n",
        "    return Vector(x, y)\n",
        "\n",
        "  def __mul__(self, scalar):\n",
        "    return Vector(self.x * scalar, self.y * scalar)\n",
        "\n",
        "\n",
        "v = Vector(3,4)\n",
        "abs(v)\n"
      ],
      "metadata": {
        "colab": {
          "base_uri": "https://localhost:8080/"
        },
        "id": "S_YLgs0UB28p",
        "outputId": "392b88d3-08c7-40b6-beb3-70394d0e52f7"
      },
      "execution_count": 22,
      "outputs": [
        {
          "output_type": "execute_result",
          "data": {
            "text/plain": [
              "Vector(4,5)"
            ]
          },
          "metadata": {},
          "execution_count": 22
        }
      ]
    },
    {
      "cell_type": "code",
      "source": [
        "import math\n",
        "\n",
        "class Vector:\n",
        "  def __init__(self, x=0, y=0):\n",
        "    self.x = x\n",
        "    self.y = y\n",
        "  def __repr__(self):\n",
        "    return f'Vector(%r,%r)' % (self.x, self.y)\n",
        "  def __abs__(self):\n",
        "    return math.hypot(self.x, self.y)\n",
        "  def __bool__(self):\n",
        "    return bool(abs(self))\n",
        "\n",
        "  def __add__(self, other):\n",
        "    x = self.x + other.x\n",
        "    y = self.y + other.y\n",
        "    return Vector(x, y)\n",
        "\n",
        "  def __mul__(self, scalar):\n",
        "    return Vector(self.x * scalar, self.y * scalar)\n",
        "\n",
        "v * 3\n",
        "abs(v*3)"
      ],
      "metadata": {
        "colab": {
          "base_uri": "https://localhost:8080/"
        },
        "id": "4msX2xryCoUD",
        "outputId": "f558200d-b731-4d81-8d8e-ce7478c659c7"
      },
      "execution_count": 23,
      "outputs": [
        {
          "output_type": "execute_result",
          "data": {
            "text/plain": [
              "15.0"
            ]
          },
          "metadata": {},
          "execution_count": 23
        }
      ]
    },
    {
      "cell_type": "code",
      "source": [
        "import math\n",
        "\n",
        "class Vector:\n",
        "  def __init__(self, x=0, y=0):\n",
        "    self.x = x\n",
        "    self.y = y\n",
        "  def __repr__(self):\n",
        "    return f'Vector(%r,%r)' % (self.x, self.y)\n",
        "  def __abs__(self):\n",
        "    return math.hypot(self.x, self.y)\n",
        "  def __bool__(self):\n",
        "    return bool(abs(self))\n",
        "\n",
        "  def __add__(self, other):\n",
        "    x = self.x + other.x\n",
        "    y = self.y + other.y\n",
        "    return Vector(x, y)\n",
        "\n",
        "  def __mul__(self, scalar):\n",
        "    return Vector(self.x * scalar, self.y * scalar)\n",
        "\n",
        "\n",
        "v1 = Vector(2,4)\n",
        "v2 = Vector(2,1)\n",
        "v1 + v2"
      ],
      "metadata": {
        "colab": {
          "base_uri": "https://localhost:8080/"
        },
        "id": "7Wv92WnoCsFi",
        "outputId": "15c83931-802f-4199-c63f-e2595d376075"
      },
      "execution_count": 24,
      "outputs": [
        {
          "output_type": "execute_result",
          "data": {
            "text/plain": [
              "Vector(4,5)"
            ]
          },
          "metadata": {},
          "execution_count": 24
        }
      ]
    },
    {
      "cell_type": "code",
      "source": [
        "import math\n",
        "\n",
        "class Vector:\n",
        "  def __init__(self, x=0, y=0):\n",
        "    self.x = x\n",
        "    self.y = y\n",
        "  def __repr__(self):\n",
        "    return f'Vector(%r,%r)' % (self.x, self.y)\n",
        "  def __abs__(self):\n",
        "    return math.hypot(self.x, self.y)\n",
        "  def __bool__(self):\n",
        "    return bool(abs(self))\n",
        "\n",
        "  def __add__(self, other):\n",
        "    x = self.x + other.x\n",
        "    y = self.y + other.y\n",
        "    return Vector(x, y)\n",
        "\n",
        "  def __mul__(self, scalar):\n",
        "    return Vector(self.x * scalar, self.y * scalar)\n",
        "\n",
        "v"
      ],
      "metadata": {
        "colab": {
          "base_uri": "https://localhost:8080/"
        },
        "id": "D8xVHsBpCu7S",
        "outputId": "2006c6bf-3266-4c43-d88f-9c04e263c529"
      },
      "execution_count": 25,
      "outputs": [
        {
          "output_type": "execute_result",
          "data": {
            "text/plain": [
              "Vector(3,4)"
            ]
          },
          "metadata": {},
          "execution_count": 25
        }
      ]
    },
    {
      "cell_type": "code",
      "source": [
        "class Test:\n",
        "  def __repr__(self):\n",
        "    return \"repr test\"\n",
        "  def __str__(self):\n",
        "    return 'str test'\n",
        "\n",
        "test = Test()\n",
        "test, str(test)"
      ],
      "metadata": {
        "colab": {
          "base_uri": "https://localhost:8080/"
        },
        "id": "hE8z6gUtCy5S",
        "outputId": "899c671a-a0ff-4c84-a9ad-edc114feaf91"
      },
      "execution_count": 33,
      "outputs": [
        {
          "output_type": "execute_result",
          "data": {
            "text/plain": [
              "(repr test, 'str test')"
            ]
          },
          "metadata": {},
          "execution_count": 33
        }
      ]
    },
    {
      "cell_type": "code",
      "source": [
        "class Test:\n",
        "  def __repr__(self):\n",
        "    return \"repr test\"\n",
        "  def __str__(self):\n",
        "    return 'str test'\n",
        "\n",
        "print(str(test))"
      ],
      "metadata": {
        "colab": {
          "base_uri": "https://localhost:8080/"
        },
        "id": "HfTYVOEnD0i5",
        "outputId": "17877e10-7f8d-4804-f865-0a5b87eaabc4"
      },
      "execution_count": 34,
      "outputs": [
        {
          "output_type": "stream",
          "name": "stdout",
          "text": [
            "str test\n"
          ]
        }
      ]
    }
  ]
}
