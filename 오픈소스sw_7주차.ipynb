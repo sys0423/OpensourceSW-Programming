{
  "cells": [
    {
      "cell_type": "code",
      "execution_count": null,
      "metadata": {
        "id": "Sgm_qJcIIQOn"
      },
      "outputs": [],
      "source": [
        "from abc import ABC, abstractmethod\n",
        "from collections import namedtuple\n",
        "\n",
        "Customer = namedtuple('Customer', 'name fidelity')\n",
        "\n",
        "jack = Customer('Park', 100)\n",
        "jack\n",
        "\n",
        "class LineItem:\n",
        "    def __init__(self, product, quantity, price):\n",
        "        self.product = product\n",
        "        self.quantity = quantity\n",
        "        self.price = price\n",
        "\n",
        "    def total(self):\n",
        "        return self.price * self.quantity\n",
        "\n",
        "class Order:\n",
        "    def __init__(self, customer, cart, promotion=None):\n",
        "        self.customer = customer\n",
        "        self.cart = list(cart)\n",
        "        self.promotion = promotion\n",
        "\n",
        "    def total(self):\n",
        "        if not hasattr(self, '__total'):\n",
        "            self.__total = sum(item.total() for item in self.cart)\n",
        "        return self.__total\n",
        "\n",
        "    def due(self):\n",
        "        if self.promotion is None:\n",
        "            discount = 0\n",
        "        else:\n",
        "            discount = self.promotion.discount(self)\n",
        "        return self.total() - discount\n",
        "\n",
        "    def __repr__(self):\n",
        "        fmt = '<Order total: {:.2f} due: {:.2f}>'\n",
        "        return fmt.format(self.total(), self.due())\n",
        "\n",
        "class Promotion(ABC):\n",
        "    @abstractmethod\n",
        "    def discount(self, order):\n",
        "        pass\n",
        "\n",
        "class FidelityPromo(Promotion):\n",
        "    def discount(self, order):\n",
        "        return order.total() * 0.05 if order.customer.fidelity >= 1000 else 0\n",
        "\n",
        "class BulkItemPromo(Promotion):\n",
        "    def discount(self, order):\n",
        "        discount = 0\n",
        "        for item in order.cart:\n",
        "            if item.quantity >= 20:\n",
        "                discount += item.total() * 0.1\n",
        "        return discount\n",
        "\n",
        "class LargeOrderPromo(Promotion):\n",
        "    def discount(self, order):\n",
        "        distinct_items = {item.product for item in order.cart}\n",
        "        if len(distinct_items) >= 10:\n",
        "            return order.total() * 0.07\n",
        "        return 0"
      ]
    },
    {
      "cell_type": "code",
      "execution_count": null,
      "metadata": {
        "id": "wKKYnq8eJ9tG"
      },
      "outputs": [],
      "source": [
        "joe = Customer('John Doe', 0)\n",
        "ann = Customer('Ann Smith', 1100)\n",
        "cart = [LineItem('banana', 4, 0.5), LineItem('apple', 10, 1.5), LineItem('watermellon', 5, 5.0)]"
      ]
    },
    {
      "cell_type": "code",
      "execution_count": null,
      "metadata": {
        "colab": {
          "base_uri": "https://localhost:8080/"
        },
        "id": "f2sRie_zKMr9",
        "outputId": "fa0292a9-c2a4-4ac5-f154-64e41e9db660"
      },
      "outputs": [
        {
          "output_type": "execute_result",
          "data": {
            "text/plain": [
              "<Order total: 42.00 due: 42.00>"
            ]
          },
          "metadata": {},
          "execution_count": 3
        }
      ],
      "source": [
        "Order(joe, cart, FidelityPromo())"
      ]
    },
    {
      "cell_type": "code",
      "execution_count": null,
      "metadata": {
        "colab": {
          "base_uri": "https://localhost:8080/"
        },
        "id": "DHLLIyqJKNv0",
        "outputId": "c159212f-515e-471a-89b8-125060b43c35"
      },
      "outputs": [
        {
          "output_type": "execute_result",
          "data": {
            "text/plain": [
              "<Order total: 42.00 due: 39.90>"
            ]
          },
          "metadata": {},
          "execution_count": 4
        }
      ],
      "source": [
        "Order(ann, cart, FidelityPromo())"
      ]
    },
    {
      "cell_type": "code",
      "execution_count": null,
      "metadata": {
        "id": "ihIjR4D0KWw1"
      },
      "outputs": [],
      "source": [
        "banana_cart = [LineItem('banana', 30, 0.5), LineItem('apple', 10, 1.5)]"
      ]
    },
    {
      "cell_type": "code",
      "execution_count": null,
      "metadata": {
        "colab": {
          "base_uri": "https://localhost:8080/"
        },
        "id": "GOSceOAnKlFt",
        "outputId": "9a644e5f-c72d-4aeb-d15d-092d2764ee4b"
      },
      "outputs": [
        {
          "output_type": "execute_result",
          "data": {
            "text/plain": [
              "<Order total: 30.00 due: 28.50>"
            ]
          },
          "metadata": {},
          "execution_count": 6
        }
      ],
      "source": [
        "Order(joe, banana_cart, BulkItemPromo())"
      ]
    },
    {
      "cell_type": "code",
      "execution_count": null,
      "metadata": {
        "id": "jkCeW-I3Kaxt"
      },
      "outputs": [],
      "source": [
        "long_order = [LineItem(str(item_code), 1, 1.0) for item_code in range(10)]"
      ]
    },
    {
      "cell_type": "code",
      "execution_count": null,
      "metadata": {
        "colab": {
          "base_uri": "https://localhost:8080/"
        },
        "id": "ia-7r9FyKizF",
        "outputId": "c6283e1e-8d96-486e-9aa3-902e40bbe156"
      },
      "outputs": [
        {
          "output_type": "execute_result",
          "data": {
            "text/plain": [
              "<Order total: 10.00 due: 9.30>"
            ]
          },
          "metadata": {},
          "execution_count": 8
        }
      ],
      "source": [
        "Order(joe, long_order, LargeOrderPromo())"
      ]
    },
    {
      "cell_type": "code",
      "execution_count": null,
      "metadata": {
        "colab": {
          "base_uri": "https://localhost:8080/"
        },
        "id": "BTFEQZ_bKid1",
        "outputId": "5e559881-c922-40ec-cd6d-f0173f9793d1"
      },
      "outputs": [
        {
          "output_type": "execute_result",
          "data": {
            "text/plain": [
              "<Order total: 42.00 due: 42.00>"
            ]
          },
          "metadata": {},
          "execution_count": 9
        }
      ],
      "source": [
        "Order(joe, cart, LargeOrderPromo())"
      ]
    },
    {
      "cell_type": "code",
      "execution_count": 19,
      "metadata": {
        "id": "w6RZba4GLdFt"
      },
      "outputs": [],
      "source": [
        "class Order:\n",
        "    def __init__(self, customer, cart, promotion=None):\n",
        "        self.customer = customer\n",
        "        self.cart = list(cart)\n",
        "        self.promotion = promotion\n",
        "\n",
        "    def total(self):\n",
        "        if not hasattr(self, '__total'):\n",
        "            self.__total = sum(item.total() for item in self.cart)\n",
        "        return self.__total\n",
        "\n",
        "    def due(self):\n",
        "        if self.promotion is None:\n",
        "            discount = 0\n",
        "        else:\n",
        "            discount = self.promotion(self)\n",
        "        return self.total() - discount\n",
        "\n",
        "    def __repr__(self):\n",
        "        fmt = '<Order total: {:.2f} due: {:.2f}>'\n",
        "        return fmt.format(self.total(), self.due())\n",
        "\n",
        "def fidelity_promo(order):\n",
        "  return order.total() * 0.05 if order.customer.fidelity >= 1000 else 0\n",
        "\n",
        "def bulk_item_promo(order):\n",
        "  discount = 0\n",
        "  for item in order.cart:\n",
        "    if item.quantity >= 20:\n",
        "      discount += item.total() * 0.1\n",
        "  return discount\n",
        "\n",
        "def large_order_promo(order):\n",
        "  distinct_items = {item.product for item in order.cart}\n",
        "  if len(distinct_items) >= 10:\n",
        "    return order.total() * 0.07\n",
        "  return 0"
      ]
    },
    {
      "cell_type": "code",
      "execution_count": 20,
      "metadata": {
        "colab": {
          "base_uri": "https://localhost:8080/"
        },
        "id": "rLy-SdSYLtm-",
        "outputId": "a76009c7-a6e3-4d9b-e5c5-d33bd51d7d1c"
      },
      "outputs": [
        {
          "output_type": "execute_result",
          "data": {
            "text/plain": [
              "<Order total: 42.00 due: 42.00>"
            ]
          },
          "metadata": {},
          "execution_count": 20
        }
      ],
      "source": [
        "Order(joe, cart, fidelity_promo)"
      ]
    },
    {
      "cell_type": "code",
      "source": [
        "Order(ann, cart, fidelity_promo)"
      ],
      "metadata": {
        "colab": {
          "base_uri": "https://localhost:8080/"
        },
        "id": "W_jzYbZ9NwL8",
        "outputId": "7c7201ec-aeb8-411a-a758-9e3bbd9ae3ae"
      },
      "execution_count": 21,
      "outputs": [
        {
          "output_type": "execute_result",
          "data": {
            "text/plain": [
              "<Order total: 42.00 due: 39.90>"
            ]
          },
          "metadata": {},
          "execution_count": 21
        }
      ]
    },
    {
      "cell_type": "code",
      "source": [
        "Order(joe, banana_cart, bulk_item_promo)"
      ],
      "metadata": {
        "colab": {
          "base_uri": "https://localhost:8080/"
        },
        "id": "N9CPhPsYN6bM",
        "outputId": "0440ebf6-c71e-4a97-e3fd-2d4322921fa8"
      },
      "execution_count": 22,
      "outputs": [
        {
          "output_type": "execute_result",
          "data": {
            "text/plain": [
              "<Order total: 30.00 due: 28.50>"
            ]
          },
          "metadata": {},
          "execution_count": 22
        }
      ]
    },
    {
      "cell_type": "code",
      "source": [
        "Order(ann, long_order, large_order_promo)"
      ],
      "metadata": {
        "colab": {
          "base_uri": "https://localhost:8080/"
        },
        "id": "6G1HHBlBN9_0",
        "outputId": "1213e8df-7de0-4fb3-8970-96297c3ce848"
      },
      "execution_count": 23,
      "outputs": [
        {
          "output_type": "execute_result",
          "data": {
            "text/plain": [
              "<Order total: 10.00 due: 9.30>"
            ]
          },
          "metadata": {},
          "execution_count": 23
        }
      ]
    },
    {
      "cell_type": "code",
      "source": [
        "promos = [fidelity_promo, bulk_item_promo, large_order_promo]\n",
        "\n",
        "def best_promo(order):\n",
        "    \"\"\"최대로 할인받을 금액을 반환\"\"\"\n",
        "    return max(promo(order) for promo in promos)"
      ],
      "metadata": {
        "id": "qo30jKEpOBrb"
      },
      "execution_count": 24,
      "outputs": []
    },
    {
      "cell_type": "code",
      "source": [
        "Order(joe, long_order, best_promo)"
      ],
      "metadata": {
        "colab": {
          "base_uri": "https://localhost:8080/"
        },
        "id": "tRy1gjm4OGIk",
        "outputId": "efae3d19-732f-490f-e5f5-6e512d4ae0c2"
      },
      "execution_count": 25,
      "outputs": [
        {
          "output_type": "execute_result",
          "data": {
            "text/plain": [
              "<Order total: 10.00 due: 9.30>"
            ]
          },
          "metadata": {},
          "execution_count": 25
        }
      ]
    },
    {
      "cell_type": "code",
      "source": [
        "Order(joe, banana_cart, best_promo)"
      ],
      "metadata": {
        "colab": {
          "base_uri": "https://localhost:8080/"
        },
        "id": "V5qK43ixOIXk",
        "outputId": "73304eb5-c472-479c-b7f4-b21dc5a4206a"
      },
      "execution_count": 26,
      "outputs": [
        {
          "output_type": "execute_result",
          "data": {
            "text/plain": [
              "<Order total: 30.00 due: 28.50>"
            ]
          },
          "metadata": {},
          "execution_count": 26
        }
      ]
    },
    {
      "cell_type": "code",
      "source": [
        "Order(ann, cart, best_promo)"
      ],
      "metadata": {
        "colab": {
          "base_uri": "https://localhost:8080/"
        },
        "id": "jxcZUVExOK58",
        "outputId": "b70a897e-2a47-471d-f2d4-892a60ed0f6d"
      },
      "execution_count": 27,
      "outputs": [
        {
          "output_type": "execute_result",
          "data": {
            "text/plain": [
              "<Order total: 42.00 due: 39.90>"
            ]
          },
          "metadata": {},
          "execution_count": 27
        }
      ]
    },
    {
      "cell_type": "code",
      "source": [
        "globals().keys()"
      ],
      "metadata": {
        "colab": {
          "base_uri": "https://localhost:8080/"
        },
        "id": "LXQHDB5rOWEs",
        "outputId": "56b95b31-d6c3-4855-9485-dfce7270cd45"
      },
      "execution_count": 28,
      "outputs": [
        {
          "output_type": "execute_result",
          "data": {
            "text/plain": [
              "dict_keys(['__name__', '__doc__', '__package__', '__loader__', '__spec__', '__builtin__', '__builtins__', '_ih', '_oh', '_dh', 'In', 'Out', 'get_ipython', 'exit', 'quit', '_', '__', '___', '_i', '_ii', '_iii', '_i1', 'ABC', 'abstractmethod', 'namedtuple', 'Customer', 'jack', 'LineItem', 'Order', 'Promotion', 'FidelityPromo', 'BulkItemPromo', 'LargeOrderPromo', '_i2', 'joe', 'ann', 'cart', '_i3', '_3', '_i4', '_4', '_i5', 'banana_cart', '_i6', '_6', '_i7', 'long_order', '_i8', '_8', '_i9', '_9', '_i10', '_i11', '_i12', '_i13', '_i14', '_i15', '_i16', '_i17', '_i18', '_i19', 'fidelity_promo', 'bulk_item_promo', 'large_order_promo', '_i20', '_20', '_i21', '_21', '_i22', '_22', '_i23', '_23', '_i24', 'promos', 'best_promo', '_i25', '_25', '_i26', '_26', '_i27', '_27', '_i28'])"
            ]
          },
          "metadata": {},
          "execution_count": 28
        }
      ]
    },
    {
      "cell_type": "code",
      "source": [
        "globals()['best_promo']"
      ],
      "metadata": {
        "colab": {
          "base_uri": "https://localhost:8080/",
          "height": 104
        },
        "id": "eXx9pou6ONhM",
        "outputId": "56eaaeba-6138-40dd-c7da-6a9ab651183e"
      },
      "execution_count": 29,
      "outputs": [
        {
          "output_type": "execute_result",
          "data": {
            "text/plain": [
              "<function __main__.best_promo(order)>"
            ],
            "text/html": [
              "<div style=\"max-width:800px; border: 1px solid var(--colab-border-color);\"><style>\n",
              "      pre.function-repr-contents {\n",
              "        overflow-x: auto;\n",
              "        padding: 8px 12px;\n",
              "        max-height: 500px;\n",
              "      }\n",
              "\n",
              "      pre.function-repr-contents.function-repr-contents-collapsed {\n",
              "        cursor: pointer;\n",
              "        max-height: 100px;\n",
              "      }\n",
              "    </style>\n",
              "    <pre style=\"white-space: initial; background:\n",
              "         var(--colab-secondary-surface-color); padding: 8px 12px;\n",
              "         border-bottom: 1px solid var(--colab-border-color);\"><b>best_promo</b><br/>def best_promo(order)</pre><pre class=\"function-repr-contents function-repr-contents-collapsed\" style=\"\"><a class=\"filepath\" style=\"display:none\" href=\"#\">/content/&lt;ipython-input-24-f28877d23f86&gt;</a>최대로 할인받을 금액을 반환</pre></div>"
            ]
          },
          "metadata": {},
          "execution_count": 29
        }
      ]
    },
    {
      "cell_type": "code",
      "source": [
        "promos = [globals()[name] for name in globals() if name.endswith('_promo') and name != 'best_promo']\n",
        "promos"
      ],
      "metadata": {
        "colab": {
          "base_uri": "https://localhost:8080/"
        },
        "id": "xSbMCjRkO4d0",
        "outputId": "4ed79bfb-56d8-4f5c-e531-a106c7998ed1"
      },
      "execution_count": 30,
      "outputs": [
        {
          "output_type": "execute_result",
          "data": {
            "text/plain": [
              "[<function __main__.fidelity_promo(order)>,\n",
              " <function __main__.bulk_item_promo(order)>,\n",
              " <function __main__.large_order_promo(order)>]"
            ]
          },
          "metadata": {},
          "execution_count": 30
        }
      ]
    },
    {
      "cell_type": "code",
      "source": [
        "def deco(func):\n",
        "    def inner():\n",
        "        print('running inner()')\n",
        "    return inner\n",
        "\n",
        "@deco\n",
        "def target():\n",
        "    print('running target()')\n",
        "\n",
        "target()"
      ],
      "metadata": {
        "colab": {
          "base_uri": "https://localhost:8080/"
        },
        "id": "a5BZVSI8PAO7",
        "outputId": "4a1dff0c-6d28-45c9-eb5a-15eb0ebbec0b"
      },
      "execution_count": 31,
      "outputs": [
        {
          "output_type": "stream",
          "name": "stdout",
          "text": [
            "running inner()\n"
          ]
        }
      ]
    },
    {
      "cell_type": "code",
      "source": [
        "target"
      ],
      "metadata": {
        "colab": {
          "base_uri": "https://localhost:8080/",
          "height": 104
        },
        "id": "Tfd38NjrPJAz",
        "outputId": "6b8569d9-52e7-4c66-c75e-0cd0af73eb1b"
      },
      "execution_count": 32,
      "outputs": [
        {
          "output_type": "execute_result",
          "data": {
            "text/plain": [
              "<function __main__.deco.<locals>.inner()>"
            ],
            "text/html": [
              "<div style=\"max-width:800px; border: 1px solid var(--colab-border-color);\"><style>\n",
              "      pre.function-repr-contents {\n",
              "        overflow-x: auto;\n",
              "        padding: 8px 12px;\n",
              "        max-height: 500px;\n",
              "      }\n",
              "\n",
              "      pre.function-repr-contents.function-repr-contents-collapsed {\n",
              "        cursor: pointer;\n",
              "        max-height: 100px;\n",
              "      }\n",
              "    </style>\n",
              "    <pre style=\"white-space: initial; background:\n",
              "         var(--colab-secondary-surface-color); padding: 8px 12px;\n",
              "         border-bottom: 1px solid var(--colab-border-color);\"><b>deco.&lt;locals&gt;.inner</b><br/>def inner()</pre><pre class=\"function-repr-contents function-repr-contents-collapsed\" style=\"\"><a class=\"filepath\" style=\"display:none\" href=\"#\">/content/&lt;ipython-input-31-00515f3620b7&gt;</a>&lt;no docstring&gt;</pre></div>"
            ]
          },
          "metadata": {},
          "execution_count": 32
        }
      ]
    },
    {
      "cell_type": "code",
      "source": [
        "registry = []\n",
        "\n",
        "def register(func):\n",
        "    print('running register(%s)' % func)\n",
        "    registry.append(func)\n",
        "    return func\n",
        "\n",
        "@register\n",
        "def f1():\n",
        "    print('running f1()')\n",
        "\n",
        "@register\n",
        "def f2():\n",
        "    print('running f2()')\n",
        "\n",
        "def f3():\n",
        "    print('running f3()')\n",
        "\n",
        "def main():\n",
        "    print('running main()')\n",
        "    print('registry ->', registry)\n",
        "    f1()\n",
        "    f2()\n",
        "    f3()\n",
        "\n",
        "if __name__ == '__main__':\n",
        "    main()"
      ],
      "metadata": {
        "colab": {
          "base_uri": "https://localhost:8080/"
        },
        "id": "ej8ClbyKPL-D",
        "outputId": "774961ba-8bcc-465a-dd5f-eb74ac9d1c3a"
      },
      "execution_count": 33,
      "outputs": [
        {
          "output_type": "stream",
          "name": "stdout",
          "text": [
            "running register(<function f1 at 0x7a439ad9d000>)\n",
            "running register(<function f2 at 0x7a439ad9cee0>)\n",
            "running main()\n",
            "registry -> [<function f1 at 0x7a439ad9d000>, <function f2 at 0x7a439ad9cee0>]\n",
            "running f1()\n",
            "running f2()\n",
            "running f3()\n"
          ]
        }
      ]
    },
    {
      "cell_type": "code",
      "source": [
        "promos = []\n",
        "\n",
        "def promotion(promo_func):\n",
        "    \"\"\"promotion() decorator는 promo_func를 promos 리스트에 추가한 후 그대로 반환\"\"\"\n",
        "    promos.append(promo_func)\n",
        "    return promo_func\n",
        "\n",
        "@promotion\n",
        "def fidelity_promo(order):\n",
        "    \"\"\"충성도 점수가 1000점 이상힌 고객에게 전체 5% 할인 적용\"\"\"\n",
        "    return order.total() * 0.05 if order.customer.fidelity >= 1000 else 0\n",
        "\n",
        "@promotion\n",
        "def bulk_item_promo(order):\n",
        "    \"\"\"20개 이상의 동일 상품을 구입하면 10% 할인 적용\"\"\"\n",
        "    discount = 0\n",
        "    for item in order.cart:\n",
        "      if item.quantity >= 20:\n",
        "        discount += item.total() * 0.1\n",
        "    return discount\n",
        "\n",
        "@promotion\n",
        "def large_order_promo(order):\n",
        "    \"\"\"10종류 이상의 상품을 구입하면 전체 7% 할인 적용\"\"\"\n",
        "    distinct_items = {item.product for item in order.cart}\n",
        "    if len(distinct_items) >= 10:\n",
        "      return order.total() * 0.07\n",
        "    return 0\n",
        "\n",
        "def best_promo(order):\n",
        "    return max(promo(order) for promo in promos)"
      ],
      "metadata": {
        "id": "emX7Dt2zPXJj"
      },
      "execution_count": 34,
      "outputs": []
    },
    {
      "cell_type": "code",
      "source": [
        "def f1(a):\n",
        "    print(a)\n",
        "    print(b)\n",
        "\n",
        "f1(3)"
      ],
      "metadata": {
        "colab": {
          "base_uri": "https://localhost:8080/",
          "height": 331
        },
        "id": "W2qPL6H0Q3Bj",
        "outputId": "d2152f77-d999-4bcb-ef63-4b3ae7813f13"
      },
      "execution_count": 35,
      "outputs": [
        {
          "output_type": "stream",
          "name": "stdout",
          "text": [
            "3\n"
          ]
        },
        {
          "output_type": "error",
          "ename": "NameError",
          "evalue": "name 'b' is not defined",
          "traceback": [
            "\u001b[0;31m---------------------------------------------------------------------------\u001b[0m",
            "\u001b[0;31mNameError\u001b[0m                                 Traceback (most recent call last)",
            "\u001b[0;32m<ipython-input-35-25d665eb58d1>\u001b[0m in \u001b[0;36m<cell line: 5>\u001b[0;34m()\u001b[0m\n\u001b[1;32m      3\u001b[0m     \u001b[0mprint\u001b[0m\u001b[0;34m(\u001b[0m\u001b[0mb\u001b[0m\u001b[0;34m)\u001b[0m\u001b[0;34m\u001b[0m\u001b[0;34m\u001b[0m\u001b[0m\n\u001b[1;32m      4\u001b[0m \u001b[0;34m\u001b[0m\u001b[0m\n\u001b[0;32m----> 5\u001b[0;31m \u001b[0mf1\u001b[0m\u001b[0;34m(\u001b[0m\u001b[0;36m3\u001b[0m\u001b[0;34m)\u001b[0m\u001b[0;34m\u001b[0m\u001b[0;34m\u001b[0m\u001b[0m\n\u001b[0m",
            "\u001b[0;32m<ipython-input-35-25d665eb58d1>\u001b[0m in \u001b[0;36mf1\u001b[0;34m(a)\u001b[0m\n\u001b[1;32m      1\u001b[0m \u001b[0;32mdef\u001b[0m \u001b[0mf1\u001b[0m\u001b[0;34m(\u001b[0m\u001b[0ma\u001b[0m\u001b[0;34m)\u001b[0m\u001b[0;34m:\u001b[0m\u001b[0;34m\u001b[0m\u001b[0;34m\u001b[0m\u001b[0m\n\u001b[1;32m      2\u001b[0m     \u001b[0mprint\u001b[0m\u001b[0;34m(\u001b[0m\u001b[0ma\u001b[0m\u001b[0;34m)\u001b[0m\u001b[0;34m\u001b[0m\u001b[0;34m\u001b[0m\u001b[0m\n\u001b[0;32m----> 3\u001b[0;31m     \u001b[0mprint\u001b[0m\u001b[0;34m(\u001b[0m\u001b[0mb\u001b[0m\u001b[0;34m)\u001b[0m\u001b[0;34m\u001b[0m\u001b[0;34m\u001b[0m\u001b[0m\n\u001b[0m\u001b[1;32m      4\u001b[0m \u001b[0;34m\u001b[0m\u001b[0m\n\u001b[1;32m      5\u001b[0m \u001b[0mf1\u001b[0m\u001b[0;34m(\u001b[0m\u001b[0;36m3\u001b[0m\u001b[0;34m)\u001b[0m\u001b[0;34m\u001b[0m\u001b[0;34m\u001b[0m\u001b[0m\n",
            "\u001b[0;31mNameError\u001b[0m: name 'b' is not defined"
          ]
        }
      ]
    },
    {
      "cell_type": "code",
      "source": [
        "b=6\n",
        "f1(3)"
      ],
      "metadata": {
        "colab": {
          "base_uri": "https://localhost:8080/"
        },
        "id": "4TlrytvbQ_fz",
        "outputId": "723c29e9-42af-4c4d-8e28-92495ee49868"
      },
      "execution_count": 36,
      "outputs": [
        {
          "output_type": "stream",
          "name": "stdout",
          "text": [
            "3\n",
            "6\n"
          ]
        }
      ]
    },
    {
      "cell_type": "code",
      "source": [
        "b = 6\n",
        "def f2(a):\n",
        "    print(a)\n",
        "    print(b)\n",
        "    b=9\n",
        "\n",
        "f2(3)"
      ],
      "metadata": {
        "colab": {
          "base_uri": "https://localhost:8080/",
          "height": 331
        },
        "id": "VYq4BrK-RCFL",
        "outputId": "b43d88c3-e55b-44ad-e415-bd1d358e55f5"
      },
      "execution_count": 37,
      "outputs": [
        {
          "output_type": "stream",
          "name": "stdout",
          "text": [
            "3\n"
          ]
        },
        {
          "output_type": "error",
          "ename": "UnboundLocalError",
          "evalue": "local variable 'b' referenced before assignment",
          "traceback": [
            "\u001b[0;31m---------------------------------------------------------------------------\u001b[0m",
            "\u001b[0;31mUnboundLocalError\u001b[0m                         Traceback (most recent call last)",
            "\u001b[0;32m<ipython-input-37-2c05de11f9e6>\u001b[0m in \u001b[0;36m<cell line: 7>\u001b[0;34m()\u001b[0m\n\u001b[1;32m      5\u001b[0m     \u001b[0mb\u001b[0m\u001b[0;34m=\u001b[0m\u001b[0;36m9\u001b[0m\u001b[0;34m\u001b[0m\u001b[0;34m\u001b[0m\u001b[0m\n\u001b[1;32m      6\u001b[0m \u001b[0;34m\u001b[0m\u001b[0m\n\u001b[0;32m----> 7\u001b[0;31m \u001b[0mf2\u001b[0m\u001b[0;34m(\u001b[0m\u001b[0;36m3\u001b[0m\u001b[0;34m)\u001b[0m\u001b[0;34m\u001b[0m\u001b[0;34m\u001b[0m\u001b[0m\n\u001b[0m",
            "\u001b[0;32m<ipython-input-37-2c05de11f9e6>\u001b[0m in \u001b[0;36mf2\u001b[0;34m(a)\u001b[0m\n\u001b[1;32m      2\u001b[0m \u001b[0;32mdef\u001b[0m \u001b[0mf2\u001b[0m\u001b[0;34m(\u001b[0m\u001b[0ma\u001b[0m\u001b[0;34m)\u001b[0m\u001b[0;34m:\u001b[0m\u001b[0;34m\u001b[0m\u001b[0;34m\u001b[0m\u001b[0m\n\u001b[1;32m      3\u001b[0m     \u001b[0mprint\u001b[0m\u001b[0;34m(\u001b[0m\u001b[0ma\u001b[0m\u001b[0;34m)\u001b[0m\u001b[0;34m\u001b[0m\u001b[0;34m\u001b[0m\u001b[0m\n\u001b[0;32m----> 4\u001b[0;31m     \u001b[0mprint\u001b[0m\u001b[0;34m(\u001b[0m\u001b[0mb\u001b[0m\u001b[0;34m)\u001b[0m\u001b[0;34m\u001b[0m\u001b[0;34m\u001b[0m\u001b[0m\n\u001b[0m\u001b[1;32m      5\u001b[0m     \u001b[0mb\u001b[0m\u001b[0;34m=\u001b[0m\u001b[0;36m9\u001b[0m\u001b[0;34m\u001b[0m\u001b[0;34m\u001b[0m\u001b[0m\n\u001b[1;32m      6\u001b[0m \u001b[0;34m\u001b[0m\u001b[0m\n",
            "\u001b[0;31mUnboundLocalError\u001b[0m: local variable 'b' referenced before assignment"
          ]
        }
      ]
    },
    {
      "cell_type": "code",
      "source": [
        "b = 6\n",
        "def f3(a):\n",
        "    global b\n",
        "    print(a)\n",
        "    print(b)\n",
        "    b = 9\n",
        "\n",
        "f3(3)"
      ],
      "metadata": {
        "colab": {
          "base_uri": "https://localhost:8080/"
        },
        "id": "DpTe6VWgRIr7",
        "outputId": "d512b102-b764-4ff5-9ede-714ef1fcc3fd"
      },
      "execution_count": 38,
      "outputs": [
        {
          "output_type": "stream",
          "name": "stdout",
          "text": [
            "3\n",
            "6\n"
          ]
        }
      ]
    },
    {
      "cell_type": "code",
      "source": [
        "b"
      ],
      "metadata": {
        "colab": {
          "base_uri": "https://localhost:8080/"
        },
        "id": "rjIwfGzXRUPi",
        "outputId": "da849919-dcb2-4103-b60f-b84ee30f20cb"
      },
      "execution_count": 39,
      "outputs": [
        {
          "output_type": "execute_result",
          "data": {
            "text/plain": [
              "9"
            ]
          },
          "metadata": {},
          "execution_count": 39
        }
      ]
    },
    {
      "cell_type": "code",
      "source": [
        "f3(3)"
      ],
      "metadata": {
        "colab": {
          "base_uri": "https://localhost:8080/"
        },
        "id": "K4jaTza7RT5r",
        "outputId": "336c965c-8da5-444a-8b07-3169537a6eef"
      },
      "execution_count": 40,
      "outputs": [
        {
          "output_type": "stream",
          "name": "stdout",
          "text": [
            "3\n",
            "9\n"
          ]
        }
      ]
    },
    {
      "cell_type": "code",
      "source": [
        "b=30\n",
        "f3(3)"
      ],
      "metadata": {
        "colab": {
          "base_uri": "https://localhost:8080/"
        },
        "id": "Tn6hEuqKRXiy",
        "outputId": "e004ea8b-b881-4d2b-ea1a-57fc355cd642"
      },
      "execution_count": 41,
      "outputs": [
        {
          "output_type": "stream",
          "name": "stdout",
          "text": [
            "3\n",
            "30\n"
          ]
        }
      ]
    },
    {
      "cell_type": "code",
      "source": [
        "class Averager():\n",
        "  def __init__(self):\n",
        "    self.series = []\n",
        "\n",
        "  def __call__(self, new_value):\n",
        "    self.series.append(new_value)\n",
        "    total = sum(self.series)\n",
        "    return total/len(self.series)"
      ],
      "metadata": {
        "id": "S5c7hMgcRboL"
      },
      "execution_count": 42,
      "outputs": []
    },
    {
      "cell_type": "code",
      "source": [
        "avg = Averager()\n",
        "avg(10)"
      ],
      "metadata": {
        "colab": {
          "base_uri": "https://localhost:8080/"
        },
        "id": "unW0KX1zRgBb",
        "outputId": "cdb28256-db1f-4b58-aa0b-c1889d274293"
      },
      "execution_count": 43,
      "outputs": [
        {
          "output_type": "execute_result",
          "data": {
            "text/plain": [
              "10.0"
            ]
          },
          "metadata": {},
          "execution_count": 43
        }
      ]
    },
    {
      "cell_type": "code",
      "source": [
        "avg(11)"
      ],
      "metadata": {
        "colab": {
          "base_uri": "https://localhost:8080/"
        },
        "id": "lEq4qID2Ri17",
        "outputId": "3dd672c8-33ee-4d9d-8e6c-7fffbf093bb6"
      },
      "execution_count": 44,
      "outputs": [
        {
          "output_type": "execute_result",
          "data": {
            "text/plain": [
              "10.5"
            ]
          },
          "metadata": {},
          "execution_count": 44
        }
      ]
    },
    {
      "cell_type": "code",
      "source": [
        "avg(12)"
      ],
      "metadata": {
        "colab": {
          "base_uri": "https://localhost:8080/"
        },
        "id": "fvNZJorYRkcC",
        "outputId": "b72840dc-9024-46b4-bbad-0ead50e47422"
      },
      "execution_count": 45,
      "outputs": [
        {
          "output_type": "execute_result",
          "data": {
            "text/plain": [
              "11.0"
            ]
          },
          "metadata": {},
          "execution_count": 45
        }
      ]
    },
    {
      "cell_type": "code",
      "source": [
        "def make_averager():\n",
        "  series = []\n",
        "\n",
        "  def averager(new_value):\n",
        "    series.append(new_value)\n",
        "    total = sum(series)\n",
        "    return total/len(series)\n",
        "\n",
        "  return averager"
      ],
      "metadata": {
        "id": "jTYoQVReRv-C"
      },
      "execution_count": 46,
      "outputs": []
    },
    {
      "cell_type": "code",
      "source": [
        "avg = make_averager()\n",
        "avg(10)"
      ],
      "metadata": {
        "colab": {
          "base_uri": "https://localhost:8080/"
        },
        "id": "vy27cHmpRx7T",
        "outputId": "9043197d-8411-4e95-f35d-cac7f36f80eb"
      },
      "execution_count": 47,
      "outputs": [
        {
          "output_type": "execute_result",
          "data": {
            "text/plain": [
              "10.0"
            ]
          },
          "metadata": {},
          "execution_count": 47
        }
      ]
    },
    {
      "cell_type": "code",
      "source": [
        "avg(11)"
      ],
      "metadata": {
        "id": "TrdaLNuvRzmy",
        "outputId": "409d3eb2-c833-4d87-bd78-1c3156f3f487",
        "colab": {
          "base_uri": "https://localhost:8080/"
        }
      },
      "execution_count": 48,
      "outputs": [
        {
          "output_type": "execute_result",
          "data": {
            "text/plain": [
              "10.5"
            ]
          },
          "metadata": {},
          "execution_count": 48
        }
      ]
    },
    {
      "cell_type": "code",
      "source": [
        "avg(12)"
      ],
      "metadata": {
        "id": "6B2HOcJrR1z6",
        "outputId": "4c700c00-97ab-4824-ca13-7c841cd16e7f",
        "colab": {
          "base_uri": "https://localhost:8080/"
        }
      },
      "execution_count": 49,
      "outputs": [
        {
          "output_type": "execute_result",
          "data": {
            "text/plain": [
              "11.0"
            ]
          },
          "metadata": {},
          "execution_count": 49
        }
      ]
    },
    {
      "cell_type": "code",
      "source": [
        "avg.__code__.co_varnames"
      ],
      "metadata": {
        "id": "MUuUzVp5eYI9",
        "colab": {
          "base_uri": "https://localhost:8080/"
        },
        "outputId": "1d208b04-11b2-4588-dae4-bed8e9e91c71"
      },
      "execution_count": 50,
      "outputs": [
        {
          "output_type": "execute_result",
          "data": {
            "text/plain": [
              "('new_value', 'total')"
            ]
          },
          "metadata": {},
          "execution_count": 50
        }
      ]
    },
    {
      "cell_type": "code",
      "source": [
        "avg.__code__.co_freevars"
      ],
      "metadata": {
        "colab": {
          "base_uri": "https://localhost:8080/"
        },
        "id": "HChxLMpifXuq",
        "outputId": "18d4aefb-6234-4d61-d934-822569947176"
      },
      "execution_count": 51,
      "outputs": [
        {
          "output_type": "execute_result",
          "data": {
            "text/plain": [
              "('series',)"
            ]
          },
          "metadata": {},
          "execution_count": 51
        }
      ]
    },
    {
      "cell_type": "code",
      "source": [
        "avg.__closure__"
      ],
      "metadata": {
        "colab": {
          "base_uri": "https://localhost:8080/"
        },
        "id": "1cVL1C7vfa-4",
        "outputId": "bdbe9c0e-cb0a-435a-97bc-8fb54cb708ec"
      },
      "execution_count": 52,
      "outputs": [
        {
          "output_type": "execute_result",
          "data": {
            "text/plain": [
              "(<cell at 0x7a439b0937f0: list object at 0x7a439a7db180>,)"
            ]
          },
          "metadata": {},
          "execution_count": 52
        }
      ]
    },
    {
      "cell_type": "code",
      "source": [
        "avg.__closure__[0].cell_contents"
      ],
      "metadata": {
        "colab": {
          "base_uri": "https://localhost:8080/"
        },
        "id": "Ka8l5A2pfcRc",
        "outputId": "832562df-0e51-4e25-e72d-de82dde0021f"
      },
      "execution_count": 53,
      "outputs": [
        {
          "output_type": "execute_result",
          "data": {
            "text/plain": [
              "[10, 11, 12]"
            ]
          },
          "metadata": {},
          "execution_count": 53
        }
      ]
    },
    {
      "cell_type": "code",
      "source": [
        "def make_averager():\n",
        "  count = 0\n",
        "  total = 0\n",
        "\n",
        "  def averager(new_value):\n",
        "    count += 1\n",
        "    total += new_value\n",
        "    return total / count\n",
        "\n",
        "  return averager"
      ],
      "metadata": {
        "id": "_nAyUsfYfeEZ"
      },
      "execution_count": 54,
      "outputs": []
    },
    {
      "cell_type": "code",
      "source": [
        "avg = make_averager()\n",
        "avg(10)"
      ],
      "metadata": {
        "colab": {
          "base_uri": "https://localhost:8080/",
          "height": 294
        },
        "id": "cbYQEoxIfglB",
        "outputId": "890ded42-8744-4a83-e8e2-b8e267225029"
      },
      "execution_count": 55,
      "outputs": [
        {
          "output_type": "error",
          "ename": "UnboundLocalError",
          "evalue": "local variable 'count' referenced before assignment",
          "traceback": [
            "\u001b[0;31m---------------------------------------------------------------------------\u001b[0m",
            "\u001b[0;31mUnboundLocalError\u001b[0m                         Traceback (most recent call last)",
            "\u001b[0;32m<ipython-input-55-b5a6bb6dc4cd>\u001b[0m in \u001b[0;36m<cell line: 2>\u001b[0;34m()\u001b[0m\n\u001b[1;32m      1\u001b[0m \u001b[0mavg\u001b[0m \u001b[0;34m=\u001b[0m \u001b[0mmake_averager\u001b[0m\u001b[0;34m(\u001b[0m\u001b[0;34m)\u001b[0m\u001b[0;34m\u001b[0m\u001b[0;34m\u001b[0m\u001b[0m\n\u001b[0;32m----> 2\u001b[0;31m \u001b[0mavg\u001b[0m\u001b[0;34m(\u001b[0m\u001b[0;36m10\u001b[0m\u001b[0;34m)\u001b[0m\u001b[0;34m\u001b[0m\u001b[0;34m\u001b[0m\u001b[0m\n\u001b[0m",
            "\u001b[0;32m<ipython-input-54-6abe12436cd5>\u001b[0m in \u001b[0;36maverager\u001b[0;34m(new_value)\u001b[0m\n\u001b[1;32m      4\u001b[0m \u001b[0;34m\u001b[0m\u001b[0m\n\u001b[1;32m      5\u001b[0m   \u001b[0;32mdef\u001b[0m \u001b[0maverager\u001b[0m\u001b[0;34m(\u001b[0m\u001b[0mnew_value\u001b[0m\u001b[0;34m)\u001b[0m\u001b[0;34m:\u001b[0m\u001b[0;34m\u001b[0m\u001b[0;34m\u001b[0m\u001b[0m\n\u001b[0;32m----> 6\u001b[0;31m     \u001b[0mcount\u001b[0m \u001b[0;34m+=\u001b[0m \u001b[0;36m1\u001b[0m\u001b[0;34m\u001b[0m\u001b[0;34m\u001b[0m\u001b[0m\n\u001b[0m\u001b[1;32m      7\u001b[0m     \u001b[0mtotal\u001b[0m \u001b[0;34m+=\u001b[0m \u001b[0mnew_value\u001b[0m\u001b[0;34m\u001b[0m\u001b[0;34m\u001b[0m\u001b[0m\n\u001b[1;32m      8\u001b[0m     \u001b[0;32mreturn\u001b[0m \u001b[0mtotal\u001b[0m \u001b[0;34m/\u001b[0m \u001b[0mcount\u001b[0m\u001b[0;34m\u001b[0m\u001b[0;34m\u001b[0m\u001b[0m\n",
            "\u001b[0;31mUnboundLocalError\u001b[0m: local variable 'count' referenced before assignment"
          ]
        }
      ]
    },
    {
      "cell_type": "code",
      "source": [
        "def make_averager():\n",
        "  count = 0\n",
        "  total = 0\n",
        "\n",
        "  def averager(new_value):\n",
        "    nonlocal count, total\n",
        "    count += 1\n",
        "    total += new_value\n",
        "    return total / count\n",
        "\n",
        "  return averager"
      ],
      "metadata": {
        "id": "saxZ5ql-fjrU"
      },
      "execution_count": 56,
      "outputs": []
    },
    {
      "cell_type": "code",
      "source": [
        "avg = make_averager()\n",
        "avg(10)"
      ],
      "metadata": {
        "colab": {
          "base_uri": "https://localhost:8080/"
        },
        "id": "vc1ID6I-foXX",
        "outputId": "075823ef-738d-4fdd-f4c5-650c5a660092"
      },
      "execution_count": 57,
      "outputs": [
        {
          "output_type": "execute_result",
          "data": {
            "text/plain": [
              "10.0"
            ]
          },
          "metadata": {},
          "execution_count": 57
        }
      ]
    },
    {
      "cell_type": "code",
      "source": [
        "import time\n",
        "\n",
        "def clock(func):\n",
        "  def clocked(*args):\n",
        "    t0 = time.perf_counter()\n",
        "    result = func(*args)\n",
        "    elapsed = time.perf_counter() - t0\n",
        "    name = func.__name__\n",
        "    arg_str = ', '.join(repr(arg) for arg in args)\n",
        "    print('[%0.8fs] %s(%s) -> %r' % (elapsed, name, arg_str, result))\n",
        "    return result\n",
        "  return clocked"
      ],
      "metadata": {
        "id": "fGL6VR4ffrDu"
      },
      "execution_count": 58,
      "outputs": []
    },
    {
      "cell_type": "code",
      "source": [
        "@clock\n",
        "def snooze(seconds):\n",
        "  time.sleep(seconds)\n",
        "\n",
        "@clock\n",
        "def factorial(n):\n",
        "  return 1 if n < 2 else n*factorial(n-1)\n",
        "\n",
        "if __name__=='__main__':\n",
        "  print('*' * 40, 'Calling snooze(.123)')\n",
        "  snooze(.123)\n",
        "  print('*' * 40, 'Calling factorial(6)')\n",
        "  print('6! =', factorial(6))"
      ],
      "metadata": {
        "colab": {
          "base_uri": "https://localhost:8080/"
        },
        "id": "ONO3m4z-fzNe",
        "outputId": "4005109c-a860-4f37-d962-a70c12811b23"
      },
      "execution_count": 59,
      "outputs": [
        {
          "output_type": "stream",
          "name": "stdout",
          "text": [
            "**************************************** Calling snooze(.123)\n",
            "[0.12323299s] snooze(0.123) -> None\n",
            "**************************************** Calling factorial(6)\n",
            "[0.00000044s] factorial(1) -> 1\n",
            "[0.00006171s] factorial(2) -> 2\n",
            "[0.00085287s] factorial(3) -> 6\n",
            "[0.00090316s] factorial(4) -> 24\n",
            "[0.00092646s] factorial(5) -> 120\n",
            "[0.00095992s] factorial(6) -> 720\n",
            "6! = 720\n"
          ]
        }
      ]
    },
    {
      "cell_type": "code",
      "source": [
        "factorial.__name__"
      ],
      "metadata": {
        "colab": {
          "base_uri": "https://localhost:8080/",
          "height": 35
        },
        "id": "SOx0RvttgBdF",
        "outputId": "a44be274-2f89-4b4e-f6d0-abdb4156c840"
      },
      "execution_count": 60,
      "outputs": [
        {
          "output_type": "execute_result",
          "data": {
            "text/plain": [
              "'clocked'"
            ],
            "application/vnd.google.colaboratory.intrinsic+json": {
              "type": "string"
            }
          },
          "metadata": {},
          "execution_count": 60
        }
      ]
    },
    {
      "cell_type": "code",
      "source": [
        "import time\n",
        "import functools\n",
        "\n",
        "def clock(func):\n",
        "  @functools.wraps(func)\n",
        "  def clocked(*args, **kwargs):\n",
        "    t0 = time.time()\n",
        "    result = func(*args, **kwargs)\n",
        "    elapsed = time.time() - t0\n",
        "    arg_lst = []\n",
        "    name = func.__name__\n",
        "    if args:\n",
        "      arg_lst.append(', '.join(repr(arg) for arg in args))\n",
        "    if kwargs:\n",
        "      pairs = ['%s=%r' % (k, w) for k, w in sorted(kwargs.items())]\n",
        "      arg_lst.append(', '.join(pairs))\n",
        "    arg_str = ', '.join(arg_lst)\n",
        "    print('[%0.8fs] %s(%s) -> %r' % (elapsed, name, arg_str, result))\n",
        "    return result\n",
        "  return clocked"
      ],
      "metadata": {
        "id": "mr8osFTsgDVo"
      },
      "execution_count": 61,
      "outputs": []
    },
    {
      "cell_type": "code",
      "source": [
        "@clock\n",
        "def snooze(seconds):\n",
        "  time.sleep(seconds)\n",
        "\n",
        "@clock\n",
        "def factorial(n):\n",
        "  return 1 if n < 2 else n*factorial(n-1)\n",
        "\n",
        "if __name__=='__main__':\n",
        "  print('*' * 40, 'Calling snooze(.123)')\n",
        "  snooze(.123)\n",
        "  print('*'*40, 'Calling factorial(6)')\n",
        "  print('6! =', factorial(6))"
      ],
      "metadata": {
        "colab": {
          "base_uri": "https://localhost:8080/"
        },
        "id": "cZMjUJG5gcEn",
        "outputId": "1bbb58dd-85d6-4be7-d1d2-db013d3e98e4"
      },
      "execution_count": 64,
      "outputs": [
        {
          "output_type": "stream",
          "name": "stdout",
          "text": [
            "**************************************** Calling snooze(.123)\n",
            "[0.12328291s] snooze(0.123) -> None\n",
            "**************************************** Calling factorial(6)\n",
            "[0.00000167s] factorial(1) -> 1\n",
            "[0.00003791s] factorial(2) -> 2\n",
            "[0.00006747s] factorial(3) -> 6\n",
            "[0.00009680s] factorial(4) -> 24\n",
            "[0.00012660s] factorial(5) -> 120\n",
            "[0.00015497s] factorial(6) -> 720\n",
            "6! = 720\n"
          ]
        }
      ]
    }
  ],
  "metadata": {
    "colab": {
      "provenance": []
    },
    "kernelspec": {
      "display_name": "Python 3",
      "name": "python3"
    },
    "language_info": {
      "name": "python"
    }
  },
  "nbformat": 4,
  "nbformat_minor": 0
}