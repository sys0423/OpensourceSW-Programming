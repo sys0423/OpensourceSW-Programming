{
  "nbformat": 4,
  "nbformat_minor": 0,
  "metadata": {
    "colab": {
      "provenance": []
    },
    "kernelspec": {
      "name": "python3",
      "display_name": "Python 3"
    },
    "language_info": {
      "name": "python"
    }
  },
  "cells": [
    {
      "cell_type": "code",
      "execution_count": 39,
      "metadata": {
        "id": "UKjhZdV1vGHc"
      },
      "outputs": [],
      "source": [
        "DIAL_CODES = [\n",
        "    (86, 'China'),\n",
        "    (91, 'India'),\n",
        "    (1, 'United States'),\n",
        "    (55, 'Brazil'),\n",
        "    (7, 'Russia'),\n",
        "]"
      ]
    },
    {
      "cell_type": "code",
      "source": [
        "country_code = {country: code for code, country in DIAL_CODES}\n",
        "country_code"
      ],
      "metadata": {
        "colab": {
          "base_uri": "https://localhost:8080/"
        },
        "id": "WfwErHxzvzsL",
        "outputId": "10df9925-34a3-4054-b13c-571ebebe08c4"
      },
      "execution_count": 40,
      "outputs": [
        {
          "output_type": "execute_result",
          "data": {
            "text/plain": [
              "{'China': 86, 'India': 91, 'United States': 1, 'Brazil': 55, 'Russia': 7}"
            ]
          },
          "metadata": {},
          "execution_count": 40
        }
      ]
    },
    {
      "cell_type": "code",
      "source": [
        "{code:country.upper() for country, code in country_code.items()\n",
        "  if code < 66}"
      ],
      "metadata": {
        "colab": {
          "base_uri": "https://localhost:8080/"
        },
        "id": "FCTYyohvvXV8",
        "outputId": "53e034bf-6516-48c4-f566-aa7d4f235caf"
      },
      "execution_count": 41,
      "outputs": [
        {
          "output_type": "execute_result",
          "data": {
            "text/plain": [
              "{1: 'UNITED STATES', 55: 'BRAZIL', 7: 'RUSSIA'}"
            ]
          },
          "metadata": {},
          "execution_count": 41
        }
      ]
    },
    {
      "cell_type": "code",
      "source": [
        "\"\"\" 단어가 나타나는 위치를 가리키는 인덱스를 만든다. \"\"\"\n",
        "\n",
        "import sys, re\n",
        "\n",
        "WORD_RE = re.compile(r'\\w+')\n",
        "index = {}\n",
        "\n",
        "with open(\"sejong.txt\", encoding=\"utf-8\") as fp:\n",
        "    for line_no, line in enumerate(fp, 1):\n",
        "        for match in WORD_RE.finditer(line):\n",
        "            word = match.group()\n",
        "            column_no = match.start() + 1\n",
        "            location = (line_no, column_no)\n",
        "            occurrences = index.get(word, [])\n",
        "            occurrences.append(location)\n",
        "            index[word] = occurrences\n",
        "\n",
        "for word in sorted(index, key=str.upper):\n",
        "    print(word, index[word])"
      ],
      "metadata": {
        "colab": {
          "base_uri": "https://localhost:8080/"
        },
        "id": "Gocx7xSuv-_i",
        "outputId": "2f2513ac-891a-457e-c3ed-0a3e1c04ff1a"
      },
      "execution_count": 43,
      "outputs": [
        {
          "output_type": "stream",
          "name": "stdout",
          "text": [
            "1 [(1, 1), (2, 8), (6, 8), (7, 6), (10, 6), (19, 12), (22, 7), (24, 5), (24, 15), (24, 25)]\n",
            "107 [(24, 8)]\n",
            "118 [(3, 11)]\n",
            "123 [(6, 20)]\n",
            "1397 [(2, 1)]\n",
            "1418 [(3, 1)]\n",
            "1422 [(4, 1)]\n",
            "1439 [(5, 1)]\n",
            "1450 [(6, 1)]\n",
            "15 [(7, 1), (25, 13)]\n",
            "151 [(26, 14)]\n",
            "158 [(19, 25)]\n",
            "167 [(24, 38)]\n",
            "168 [(8, 8)]\n",
            "171 [(9, 8)]\n",
            "184 [(14, 8)]\n",
            "185 [(18, 19)]\n",
            "2 [(8, 1)]\n",
            "211 [(24, 18)]\n",
            "224 [(15, 16)]\n",
            "260 [(22, 10)]\n",
            "278 [(24, 28)]\n",
            "3 [(1, 5), (3, 8), (4, 8), (9, 1), (14, 5), (15, 13), (16, 12), (22, 17), (22, 26), (22, 36), (24, 35), (26, 11)]\n",
            "30 [(10, 1)]\n",
            "300 [(27, 16)]\n",
            "316 [(19, 15)]\n",
            "32 [(7, 9)]\n",
            "339 [(14, 18)]\n",
            "359 [(16, 15)]\n",
            "36 [(22, 49)]\n",
            "378 [(22, 29)]\n",
            "39 [(2, 11), (13, 8)]\n",
            "398 [(22, 39)]\n",
            "4 [(11, 1)]\n",
            "421 [(23, 11)]\n",
            "431 [(20, 11)]\n",
            "441 [(4, 11)]\n",
            "447 [(1, 8)]\n",
            "46 [(10, 9)]\n",
            "479 [(11, 8)]\n",
            "482 [(12, 8)]\n",
            "5 [(8, 5), (9, 5), (11, 5), (12, 1), (12, 5), (14, 15), (18, 16), (19, 22), (20, 8), (21, 14), (22, 46), (23, 8), (27, 13)]\n",
            "55 [(6, 11)]\n",
            "6 [(5, 10), (13, 1)]\n",
            "7 [(5, 8), (6, 17), (13, 5), (17, 9), (24, 45), (25, 10)]\n",
            "85 [(17, 12)]\n",
            "88 [(21, 17)]\n",
            "91 [(24, 48)]\n",
            "94 [(22, 20)]\n",
            "a [(14, 1)]\n",
            "abdicated [(15, 1)]\n",
            "absolute [(16, 1)]\n",
            "acted [(17, 1)]\n",
            "advancements [(18, 1)]\n",
            "alphabet [(19, 1)]\n",
            "also [(20, 1)]\n",
            "amendments [(21, 1)]\n",
            "and [(22, 1)]\n",
            "areas [(23, 1)]\n",
            "as [(24, 1)]\n",
            "became [(25, 1)]\n",
            "brother [(26, 1)]\n",
            "campaigns [(27, 1)]\n"
          ]
        }
      ]
    },
    {
      "cell_type": "code",
      "source": [
        "\"\"\" 단어가 나타나는 위치를 가리키는 인덱스를 만든다. \"\"\"\n",
        "\n",
        "import sys, re\n",
        "\n",
        "WORD_RE = re.compile(r'\\w+')\n",
        "index = {}\n",
        "\n",
        "with open(\"sejong.txt\", encoding=\"utf-8\") as fp:\n",
        "    for line_no, line in enumerate(fp, 1):\n",
        "        for match in WORD_RE.finditer(line):\n",
        "          word = match.group()\n",
        "          column_no = match.start() + 1\n",
        "          location = (line_no, column_no)\n",
        "          index.setdefault(word, []).append(location)\n",
        "\n",
        "for word in sorted(index, key=str.upper):\n",
        "    print(word, index[word])"
      ],
      "metadata": {
        "colab": {
          "base_uri": "https://localhost:8080/"
        },
        "id": "UpI-KhvkxQhk",
        "outputId": "7612e036-bfd4-4a4d-cbe0-8030c72a8547"
      },
      "execution_count": 9,
      "outputs": [
        {
          "output_type": "stream",
          "name": "stdout",
          "text": [
            "1 [(1, 1), (2, 8), (6, 8), (7, 6), (10, 6), (19, 12), (22, 7), (24, 5), (24, 15), (24, 25)]\n",
            "107 [(24, 8)]\n",
            "118 [(3, 11)]\n",
            "123 [(6, 20)]\n",
            "1397 [(2, 1)]\n",
            "1418 [(3, 1)]\n",
            "1422 [(4, 1)]\n",
            "1439 [(5, 1)]\n",
            "1450 [(6, 1)]\n",
            "15 [(7, 1), (25, 13)]\n",
            "151 [(26, 14)]\n",
            "158 [(19, 25)]\n",
            "167 [(24, 38)]\n",
            "168 [(8, 8)]\n",
            "171 [(9, 8)]\n",
            "184 [(14, 8)]\n",
            "185 [(18, 19)]\n",
            "2 [(8, 1)]\n",
            "211 [(24, 18)]\n",
            "224 [(15, 16)]\n",
            "260 [(22, 10)]\n",
            "278 [(24, 28)]\n",
            "3 [(1, 5), (3, 8), (4, 8), (9, 1), (14, 5), (15, 13), (16, 12), (22, 17), (22, 26), (22, 36), (24, 35), (26, 11)]\n",
            "30 [(10, 1)]\n",
            "300 [(27, 16)]\n",
            "316 [(19, 15)]\n",
            "32 [(7, 9)]\n",
            "339 [(14, 18)]\n",
            "359 [(16, 15)]\n",
            "36 [(22, 49)]\n",
            "378 [(22, 29)]\n",
            "39 [(2, 11), (13, 8)]\n",
            "398 [(22, 39)]\n",
            "4 [(11, 1)]\n",
            "421 [(23, 11)]\n",
            "431 [(20, 11)]\n",
            "441 [(4, 11)]\n",
            "447 [(1, 8)]\n",
            "46 [(10, 9)]\n",
            "479 [(11, 8)]\n",
            "482 [(12, 8)]\n",
            "5 [(8, 5), (9, 5), (11, 5), (12, 1), (12, 5), (14, 15), (18, 16), (19, 22), (20, 8), (21, 14), (22, 46), (23, 8), (27, 13)]\n",
            "55 [(6, 11)]\n",
            "6 [(5, 10), (13, 1)]\n",
            "7 [(5, 8), (6, 17), (13, 5), (17, 9), (24, 45), (25, 10)]\n",
            "85 [(17, 12)]\n",
            "88 [(21, 17)]\n",
            "91 [(24, 48)]\n",
            "94 [(22, 20)]\n",
            "a [(14, 1)]\n",
            "abdicated [(15, 1)]\n",
            "absolute [(16, 1)]\n",
            "acted [(17, 1)]\n",
            "advancements [(18, 1)]\n",
            "alphabet [(19, 1)]\n",
            "also [(20, 1)]\n",
            "amendments [(21, 1)]\n",
            "and [(22, 1)]\n",
            "areas [(23, 1)]\n",
            "as [(24, 1)]\n",
            "became [(25, 1)]\n",
            "brother [(26, 1)]\n",
            "campaigns [(27, 1)]\n"
          ]
        }
      ]
    },
    {
      "cell_type": "code",
      "source": [
        "\"\"\" 단어가 나타나는 위치를 가리키는 인덱스를 만든다. \"\"\"\n",
        "\n",
        "import sys, re, collections\n",
        "\n",
        "WORD_RE = re.compile(r'\\w+')\n",
        "\n",
        "index = collections.defaultdict(list)\n",
        "\n",
        "with open(\"sejong.txt\", encoding=\"utf-8\") as fp:\n",
        "    for line_no, line in enumerate(fp, 1):\n",
        "        for match in WORD_RE.finditer(line):\n",
        "          word = match.group()\n",
        "          column_no = match.start() + 1\n",
        "          location = (line_no, column_no)\n",
        "          index[word].append(location)\n",
        "\n",
        "for word in sorted(index, key=str.upper):\n",
        "    print(word, index[word])"
      ],
      "metadata": {
        "colab": {
          "base_uri": "https://localhost:8080/"
        },
        "id": "1rrkV2dTxiJx",
        "outputId": "4228f09f-ffd3-49be-8a78-d6bcb672dfdf"
      },
      "execution_count": 10,
      "outputs": [
        {
          "output_type": "stream",
          "name": "stdout",
          "text": [
            "1 [(1, 1), (2, 8), (6, 8), (7, 6), (10, 6), (19, 12), (22, 7), (24, 5), (24, 15), (24, 25)]\n",
            "107 [(24, 8)]\n",
            "118 [(3, 11)]\n",
            "123 [(6, 20)]\n",
            "1397 [(2, 1)]\n",
            "1418 [(3, 1)]\n",
            "1422 [(4, 1)]\n",
            "1439 [(5, 1)]\n",
            "1450 [(6, 1)]\n",
            "15 [(7, 1), (25, 13)]\n",
            "151 [(26, 14)]\n",
            "158 [(19, 25)]\n",
            "167 [(24, 38)]\n",
            "168 [(8, 8)]\n",
            "171 [(9, 8)]\n",
            "184 [(14, 8)]\n",
            "185 [(18, 19)]\n",
            "2 [(8, 1)]\n",
            "211 [(24, 18)]\n",
            "224 [(15, 16)]\n",
            "260 [(22, 10)]\n",
            "278 [(24, 28)]\n",
            "3 [(1, 5), (3, 8), (4, 8), (9, 1), (14, 5), (15, 13), (16, 12), (22, 17), (22, 26), (22, 36), (24, 35), (26, 11)]\n",
            "30 [(10, 1)]\n",
            "300 [(27, 16)]\n",
            "316 [(19, 15)]\n",
            "32 [(7, 9)]\n",
            "339 [(14, 18)]\n",
            "359 [(16, 15)]\n",
            "36 [(22, 49)]\n",
            "378 [(22, 29)]\n",
            "39 [(2, 11), (13, 8)]\n",
            "398 [(22, 39)]\n",
            "4 [(11, 1)]\n",
            "421 [(23, 11)]\n",
            "431 [(20, 11)]\n",
            "441 [(4, 11)]\n",
            "447 [(1, 8)]\n",
            "46 [(10, 9)]\n",
            "479 [(11, 8)]\n",
            "482 [(12, 8)]\n",
            "5 [(8, 5), (9, 5), (11, 5), (12, 1), (12, 5), (14, 15), (18, 16), (19, 22), (20, 8), (21, 14), (22, 46), (23, 8), (27, 13)]\n",
            "55 [(6, 11)]\n",
            "6 [(5, 10), (13, 1)]\n",
            "7 [(5, 8), (6, 17), (13, 5), (17, 9), (24, 45), (25, 10)]\n",
            "85 [(17, 12)]\n",
            "88 [(21, 17)]\n",
            "91 [(24, 48)]\n",
            "94 [(22, 20)]\n",
            "a [(14, 1)]\n",
            "abdicated [(15, 1)]\n",
            "absolute [(16, 1)]\n",
            "acted [(17, 1)]\n",
            "advancements [(18, 1)]\n",
            "alphabet [(19, 1)]\n",
            "also [(20, 1)]\n",
            "amendments [(21, 1)]\n",
            "and [(22, 1)]\n",
            "areas [(23, 1)]\n",
            "as [(24, 1)]\n",
            "became [(25, 1)]\n",
            "brother [(26, 1)]\n",
            "campaigns [(27, 1)]\n"
          ]
        }
      ]
    },
    {
      "cell_type": "code",
      "source": [
        "class StrKeyDict(dict):\n",
        "\n",
        "    def __missing__(self, key):\n",
        "        if isinstance(key, str):\n",
        "            raise KeyError(key)\n",
        "        return self[str(key)]\n",
        "\n",
        "    def get(self, key, default=None):\n",
        "        try:\n",
        "            return self[key]\n",
        "        except KeyError:\n",
        "            return default\n",
        "\n",
        "    def __contains__(self, key):\n",
        "        return key in self.keys() or str(key) in self.keys()"
      ],
      "metadata": {
        "id": "IxAQVjp_x3Tq"
      },
      "execution_count": 20,
      "outputs": []
    },
    {
      "cell_type": "code",
      "source": [
        "d = StrKeyDict([('2', 'two'), ('4', 'four')])\n",
        "d['2']"
      ],
      "metadata": {
        "colab": {
          "base_uri": "https://localhost:8080/",
          "height": 35
        },
        "id": "1h5kj68syKB7",
        "outputId": "e4a3064f-0cb8-4069-abf2-f8582c50e4f2"
      },
      "execution_count": 45,
      "outputs": [
        {
          "output_type": "execute_result",
          "data": {
            "text/plain": [
              "'two'"
            ],
            "application/vnd.google.colaboratory.intrinsic+json": {
              "type": "string"
            }
          },
          "metadata": {},
          "execution_count": 45
        }
      ]
    },
    {
      "cell_type": "code",
      "source": [
        "d[4]"
      ],
      "metadata": {
        "colab": {
          "base_uri": "https://localhost:8080/",
          "height": 35
        },
        "id": "nPb1TEUeyNMq",
        "outputId": "e1852f8e-75fd-4216-bcb0-52ebc77046e6"
      },
      "execution_count": 46,
      "outputs": [
        {
          "output_type": "execute_result",
          "data": {
            "text/plain": [
              "'four'"
            ],
            "application/vnd.google.colaboratory.intrinsic+json": {
              "type": "string"
            }
          },
          "metadata": {},
          "execution_count": 46
        }
      ]
    },
    {
      "cell_type": "code",
      "source": [
        "d.get('2')"
      ],
      "metadata": {
        "colab": {
          "base_uri": "https://localhost:8080/",
          "height": 35
        },
        "id": "jEvahcVUyOWC",
        "outputId": "a036b5bd-b163-47f6-9040-6581b499eae8"
      },
      "execution_count": 47,
      "outputs": [
        {
          "output_type": "execute_result",
          "data": {
            "text/plain": [
              "'two'"
            ],
            "application/vnd.google.colaboratory.intrinsic+json": {
              "type": "string"
            }
          },
          "metadata": {},
          "execution_count": 47
        }
      ]
    },
    {
      "cell_type": "code",
      "source": [
        "d.get(4)"
      ],
      "metadata": {
        "colab": {
          "base_uri": "https://localhost:8080/",
          "height": 35
        },
        "id": "Wem23vCcyQ8u",
        "outputId": "8d434836-a5f2-4504-ae1c-343a2b3bebfe"
      },
      "execution_count": 48,
      "outputs": [
        {
          "output_type": "execute_result",
          "data": {
            "text/plain": [
              "'four'"
            ],
            "application/vnd.google.colaboratory.intrinsic+json": {
              "type": "string"
            }
          },
          "metadata": {},
          "execution_count": 48
        }
      ]
    },
    {
      "cell_type": "code",
      "source": [
        "d.get(1,'N/A')"
      ],
      "metadata": {
        "colab": {
          "base_uri": "https://localhost:8080/",
          "height": 35
        },
        "id": "cFLF7DE8ySwu",
        "outputId": "afc1c426-529a-431e-c1e4-4bc9be582561"
      },
      "execution_count": 49,
      "outputs": [
        {
          "output_type": "execute_result",
          "data": {
            "text/plain": [
              "'N/A'"
            ],
            "application/vnd.google.colaboratory.intrinsic+json": {
              "type": "string"
            }
          },
          "metadata": {},
          "execution_count": 49
        }
      ]
    },
    {
      "cell_type": "code",
      "source": [
        "2 in d"
      ],
      "metadata": {
        "colab": {
          "base_uri": "https://localhost:8080/"
        },
        "id": "IFYWIC2myVqO",
        "outputId": "851541a4-40fe-41a2-aaf3-151dd5d19aa6"
      },
      "execution_count": 50,
      "outputs": [
        {
          "output_type": "execute_result",
          "data": {
            "text/plain": [
              "True"
            ]
          },
          "metadata": {},
          "execution_count": 50
        }
      ]
    },
    {
      "cell_type": "code",
      "source": [
        "d[1]"
      ],
      "metadata": {
        "colab": {
          "base_uri": "https://localhost:8080/",
          "height": 300
        },
        "id": "pc0M3FI21YXq",
        "outputId": "260a7dee-d29a-44f0-ffec-4d3ad625419e"
      },
      "execution_count": 51,
      "outputs": [
        {
          "output_type": "error",
          "ename": "KeyError",
          "evalue": "'1'",
          "traceback": [
            "\u001b[0;31m---------------------------------------------------------------------------\u001b[0m",
            "\u001b[0;31mKeyError\u001b[0m                                  Traceback (most recent call last)",
            "\u001b[0;32m<ipython-input-51-abe283337115>\u001b[0m in \u001b[0;36m<cell line: 1>\u001b[0;34m()\u001b[0m\n\u001b[0;32m----> 1\u001b[0;31m \u001b[0md\u001b[0m\u001b[0;34m[\u001b[0m\u001b[0;36m1\u001b[0m\u001b[0;34m]\u001b[0m\u001b[0;34m\u001b[0m\u001b[0;34m\u001b[0m\u001b[0m\n\u001b[0m",
            "\u001b[0;32m<ipython-input-20-fe5f6f8007d0>\u001b[0m in \u001b[0;36m__missing__\u001b[0;34m(self, key)\u001b[0m\n\u001b[1;32m      4\u001b[0m         \u001b[0;32mif\u001b[0m \u001b[0misinstance\u001b[0m\u001b[0;34m(\u001b[0m\u001b[0mkey\u001b[0m\u001b[0;34m,\u001b[0m \u001b[0mstr\u001b[0m\u001b[0;34m)\u001b[0m\u001b[0;34m:\u001b[0m\u001b[0;34m\u001b[0m\u001b[0;34m\u001b[0m\u001b[0m\n\u001b[1;32m      5\u001b[0m             \u001b[0;32mraise\u001b[0m \u001b[0mKeyError\u001b[0m\u001b[0;34m(\u001b[0m\u001b[0mkey\u001b[0m\u001b[0;34m)\u001b[0m\u001b[0;34m\u001b[0m\u001b[0;34m\u001b[0m\u001b[0m\n\u001b[0;32m----> 6\u001b[0;31m         \u001b[0;32mreturn\u001b[0m \u001b[0mself\u001b[0m\u001b[0;34m[\u001b[0m\u001b[0mstr\u001b[0m\u001b[0;34m(\u001b[0m\u001b[0mkey\u001b[0m\u001b[0;34m)\u001b[0m\u001b[0;34m]\u001b[0m\u001b[0;34m\u001b[0m\u001b[0;34m\u001b[0m\u001b[0m\n\u001b[0m\u001b[1;32m      7\u001b[0m \u001b[0;34m\u001b[0m\u001b[0m\n\u001b[1;32m      8\u001b[0m     \u001b[0;32mdef\u001b[0m \u001b[0mget\u001b[0m\u001b[0;34m(\u001b[0m\u001b[0mself\u001b[0m\u001b[0;34m,\u001b[0m \u001b[0mkey\u001b[0m\u001b[0;34m,\u001b[0m \u001b[0mdefault\u001b[0m\u001b[0;34m=\u001b[0m\u001b[0;32mNone\u001b[0m\u001b[0;34m)\u001b[0m\u001b[0;34m:\u001b[0m\u001b[0;34m\u001b[0m\u001b[0;34m\u001b[0m\u001b[0m\n",
            "\u001b[0;32m<ipython-input-20-fe5f6f8007d0>\u001b[0m in \u001b[0;36m__missing__\u001b[0;34m(self, key)\u001b[0m\n\u001b[1;32m      3\u001b[0m     \u001b[0;32mdef\u001b[0m \u001b[0m__missing__\u001b[0m\u001b[0;34m(\u001b[0m\u001b[0mself\u001b[0m\u001b[0;34m,\u001b[0m \u001b[0mkey\u001b[0m\u001b[0;34m)\u001b[0m\u001b[0;34m:\u001b[0m\u001b[0;34m\u001b[0m\u001b[0;34m\u001b[0m\u001b[0m\n\u001b[1;32m      4\u001b[0m         \u001b[0;32mif\u001b[0m \u001b[0misinstance\u001b[0m\u001b[0;34m(\u001b[0m\u001b[0mkey\u001b[0m\u001b[0;34m,\u001b[0m \u001b[0mstr\u001b[0m\u001b[0;34m)\u001b[0m\u001b[0;34m:\u001b[0m\u001b[0;34m\u001b[0m\u001b[0;34m\u001b[0m\u001b[0m\n\u001b[0;32m----> 5\u001b[0;31m             \u001b[0;32mraise\u001b[0m \u001b[0mKeyError\u001b[0m\u001b[0;34m(\u001b[0m\u001b[0mkey\u001b[0m\u001b[0;34m)\u001b[0m\u001b[0;34m\u001b[0m\u001b[0;34m\u001b[0m\u001b[0m\n\u001b[0m\u001b[1;32m      6\u001b[0m         \u001b[0;32mreturn\u001b[0m \u001b[0mself\u001b[0m\u001b[0;34m[\u001b[0m\u001b[0mstr\u001b[0m\u001b[0;34m(\u001b[0m\u001b[0mkey\u001b[0m\u001b[0;34m)\u001b[0m\u001b[0;34m]\u001b[0m\u001b[0;34m\u001b[0m\u001b[0;34m\u001b[0m\u001b[0m\n\u001b[1;32m      7\u001b[0m \u001b[0;34m\u001b[0m\u001b[0m\n",
            "\u001b[0;31mKeyError\u001b[0m: '1'"
          ]
        }
      ]
    },
    {
      "cell_type": "code",
      "source": [
        "class StrKeydict(collections.UserDict):\n",
        "\n",
        "    def __missing__(self, key):\n",
        "        if isinstance(key, str):\n",
        "            raise KeyError(key)\n",
        "        return self[str(key)]\n",
        "\n",
        "    def __contains__(self, key):\n",
        "        return str(key) in self.data\n",
        "\n",
        "    def __setitem__(self, key, item):\n",
        "        self.data[str(key)] = item"
      ],
      "metadata": {
        "id": "e8m6pFlayX6O"
      },
      "execution_count": 22,
      "outputs": []
    },
    {
      "cell_type": "code",
      "source": [
        "from types import MappingProxyType\n",
        "d = {1:'A'}\n",
        "d_proxy = MappingProxyType(d)\n",
        "d_proxy"
      ],
      "metadata": {
        "colab": {
          "base_uri": "https://localhost:8080/"
        },
        "id": "AjZ2vCSMylgK",
        "outputId": "fd23c6dc-65fd-471e-cfa1-14d8265691ba"
      },
      "execution_count": 23,
      "outputs": [
        {
          "output_type": "execute_result",
          "data": {
            "text/plain": [
              "mappingproxy({1: 'A'})"
            ]
          },
          "metadata": {},
          "execution_count": 23
        }
      ]
    },
    {
      "cell_type": "code",
      "source": [
        "d_proxy[1]"
      ],
      "metadata": {
        "colab": {
          "base_uri": "https://localhost:8080/",
          "height": 35
        },
        "id": "3wydAaEIy2Js",
        "outputId": "21418e17-c3d9-4e85-a52b-657375cf40cb"
      },
      "execution_count": 24,
      "outputs": [
        {
          "output_type": "execute_result",
          "data": {
            "text/plain": [
              "'A'"
            ],
            "application/vnd.google.colaboratory.intrinsic+json": {
              "type": "string"
            }
          },
          "metadata": {},
          "execution_count": 24
        }
      ]
    },
    {
      "cell_type": "code",
      "source": [
        "d_proxy[2] = 'x'"
      ],
      "metadata": {
        "colab": {
          "base_uri": "https://localhost:8080/",
          "height": 147
        },
        "id": "nOP5iOFyy4aU",
        "outputId": "34e4104b-950c-4fba-f59f-837e114d6d88"
      },
      "execution_count": 25,
      "outputs": [
        {
          "output_type": "error",
          "ename": "TypeError",
          "evalue": "'mappingproxy' object does not support item assignment",
          "traceback": [
            "\u001b[0;31m---------------------------------------------------------------------------\u001b[0m",
            "\u001b[0;31mTypeError\u001b[0m                                 Traceback (most recent call last)",
            "\u001b[0;32m<ipython-input-25-bc17a9a62754>\u001b[0m in \u001b[0;36m<cell line: 1>\u001b[0;34m()\u001b[0m\n\u001b[0;32m----> 1\u001b[0;31m \u001b[0md_proxy\u001b[0m\u001b[0;34m[\u001b[0m\u001b[0;36m2\u001b[0m\u001b[0;34m]\u001b[0m \u001b[0;34m=\u001b[0m \u001b[0;34m'x'\u001b[0m\u001b[0;34m\u001b[0m\u001b[0;34m\u001b[0m\u001b[0m\n\u001b[0m",
            "\u001b[0;31mTypeError\u001b[0m: 'mappingproxy' object does not support item assignment"
          ]
        }
      ]
    },
    {
      "cell_type": "code",
      "source": [
        "d[2] = '8'\n",
        "d_proxy"
      ],
      "metadata": {
        "colab": {
          "base_uri": "https://localhost:8080/"
        },
        "id": "L3mYNiZCy7ac",
        "outputId": "5564b7d1-51a1-4480-8f9d-20df6ddbb9f5"
      },
      "execution_count": 26,
      "outputs": [
        {
          "output_type": "execute_result",
          "data": {
            "text/plain": [
              "mappingproxy({1: 'A', 2: '8'})"
            ]
          },
          "metadata": {},
          "execution_count": 26
        }
      ]
    },
    {
      "cell_type": "code",
      "source": [
        "l = ['spam', 'spam', 'eggs', 'spam']\n",
        "set(l)"
      ],
      "metadata": {
        "colab": {
          "base_uri": "https://localhost:8080/"
        },
        "id": "XLNyl76wzAa9",
        "outputId": "71ae578b-76ac-4d07-a6e8-b8bd9a479929"
      },
      "execution_count": 27,
      "outputs": [
        {
          "output_type": "execute_result",
          "data": {
            "text/plain": [
              "{'eggs', 'spam'}"
            ]
          },
          "metadata": {},
          "execution_count": 27
        }
      ]
    },
    {
      "cell_type": "code",
      "source": [
        "list(set(l))"
      ],
      "metadata": {
        "colab": {
          "base_uri": "https://localhost:8080/"
        },
        "id": "UnWo-xD-zE4t",
        "outputId": "92a6245f-3b67-461c-b680-ed1e15c09de3"
      },
      "execution_count": 28,
      "outputs": [
        {
          "output_type": "execute_result",
          "data": {
            "text/plain": [
              "['eggs', 'spam']"
            ]
          },
          "metadata": {},
          "execution_count": 28
        }
      ]
    },
    {
      "cell_type": "code",
      "source": [
        "l = set([\"spam\",\"spam\",\"eggs\",\"spam\",\"eggs\",\"meats\",\"onions\",\"onions\"])\n",
        "m = set([\"eggs\",\"onions\"])\n",
        "\n",
        "found = len(l & m)\n",
        "found"
      ],
      "metadata": {
        "colab": {
          "base_uri": "https://localhost:8080/"
        },
        "id": "Me9UKFGUzHCt",
        "outputId": "c02bed62-0560-49cd-f870-9d479c20e13b"
      },
      "execution_count": 32,
      "outputs": [
        {
          "output_type": "execute_result",
          "data": {
            "text/plain": [
              "2"
            ]
          },
          "metadata": {},
          "execution_count": 32
        }
      ]
    },
    {
      "cell_type": "code",
      "source": [
        "found = 0\n",
        "for n in m:\n",
        "  if n in l:\n",
        "    found += 1\n",
        "found"
      ],
      "metadata": {
        "colab": {
          "base_uri": "https://localhost:8080/"
        },
        "id": "watVF---zUbh",
        "outputId": "53a9ca89-56a4-4ef2-cbbe-f153beabf0a4"
      },
      "execution_count": 33,
      "outputs": [
        {
          "output_type": "execute_result",
          "data": {
            "text/plain": [
              "2"
            ]
          },
          "metadata": {},
          "execution_count": 33
        }
      ]
    },
    {
      "cell_type": "code",
      "source": [
        "found = len(l.intersection(m))\n",
        "found"
      ],
      "metadata": {
        "colab": {
          "base_uri": "https://localhost:8080/"
        },
        "id": "XYt8n2mRzk0x",
        "outputId": "a25c7956-891b-4080-dd13-d1a2e6c75440"
      },
      "execution_count": 34,
      "outputs": [
        {
          "output_type": "execute_result",
          "data": {
            "text/plain": [
              "2"
            ]
          },
          "metadata": {},
          "execution_count": 34
        }
      ]
    },
    {
      "cell_type": "code",
      "source": [
        "s = {1}\n",
        "print(type(s))\n",
        "print(s)\n",
        "\n",
        "s.pop()\n",
        "print(s)"
      ],
      "metadata": {
        "colab": {
          "base_uri": "https://localhost:8080/"
        },
        "id": "VD8-ytDczqfe",
        "outputId": "a00060ba-34fe-45ce-88d1-62c6fb653779"
      },
      "execution_count": 35,
      "outputs": [
        {
          "output_type": "stream",
          "name": "stdout",
          "text": [
            "<class 'set'>\n",
            "{1}\n",
            "set()\n"
          ]
        }
      ]
    },
    {
      "cell_type": "code",
      "source": [
        "from unicodedata import name\n",
        "{chr(i) for i in range(32,256) if 'SIGN' in name(chr(i),'')}"
      ],
      "metadata": {
        "colab": {
          "base_uri": "https://localhost:8080/"
        },
        "id": "BuLEw_u4zwvu",
        "outputId": "8bd5a91f-c58c-4100-f68a-66733ff3e816"
      },
      "execution_count": 36,
      "outputs": [
        {
          "output_type": "execute_result",
          "data": {
            "text/plain": [
              "{'#',\n",
              " '$',\n",
              " '%',\n",
              " '+',\n",
              " '<',\n",
              " '=',\n",
              " '>',\n",
              " '¢',\n",
              " '£',\n",
              " '¤',\n",
              " '¥',\n",
              " '§',\n",
              " '©',\n",
              " '¬',\n",
              " '®',\n",
              " '°',\n",
              " '±',\n",
              " 'µ',\n",
              " '¶',\n",
              " '×',\n",
              " '÷'}"
            ]
          },
          "metadata": {},
          "execution_count": 36
        }
      ]
    },
    {
      "cell_type": "code",
      "source": [
        "from os import dup2\n",
        "DIAL_CODES = [\n",
        "    (82, 'Korea'),\n",
        "    (91, 'India'),\n",
        "    (1, 'United States'),\n",
        "    (92, 'Pakistan'),\n",
        "    (7, 'Russia'),\n",
        "]\n",
        "\n",
        "d1 = dict(DIAL_CODES)\n",
        "print(f'd1: {d1.keys()}')\n",
        "\n",
        "d2 = dict(sorted(DIAL_CODES))\n",
        "print(f'd2: {d2.keys()}')\n",
        "\n",
        "d3 = dict(sorted(DIAL_CODES, key=lambda x:x[1]))\n",
        "print(f'd3: {d3.keys()}')\n",
        "\n",
        "assert d1 == d2 and d2 == d3"
      ],
      "metadata": {
        "colab": {
          "base_uri": "https://localhost:8080/"
        },
        "id": "zxNLXVU2z3XI",
        "outputId": "6cdc0298-cc55-4d12-bfc2-c0b27a284519"
      },
      "execution_count": 38,
      "outputs": [
        {
          "output_type": "stream",
          "name": "stdout",
          "text": [
            "d1: dict_keys([82, 91, 1, 92, 7])\n",
            "d2: dict_keys([1, 7, 82, 91, 92])\n",
            "d3: dict_keys([91, 82, 92, 7, 1])\n"
          ]
        }
      ]
    },
    {
      "cell_type": "code",
      "source": [],
      "metadata": {
        "id": "psBqky4zz3EQ"
      },
      "execution_count": null,
      "outputs": []
    }
  ]
}